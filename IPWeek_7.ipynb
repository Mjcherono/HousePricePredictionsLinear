{
  "nbformat": 4,
  "nbformat_minor": 0,
  "metadata": {
    "colab": {
      "name": "IPWeek-7.ipynb",
      "provenance": [],
      "collapsed_sections": [],
      "authorship_tag": "ABX9TyP1Wdt6e1FOqbHdY7abGaPm",
      "include_colab_link": true
    },
    "kernelspec": {
      "name": "python3",
      "display_name": "Python 3"
    }
  },
  "cells": [
    {
      "cell_type": "markdown",
      "metadata": {
        "id": "view-in-github",
        "colab_type": "text"
      },
      "source": [
        "<a href=\"https://colab.research.google.com/github/Mjcherono/HousePricePredictionsLinear/blob/main/IPWeek_7.ipynb\" target=\"_parent\"><img src=\"https://colab.research.google.com/assets/colab-badge.svg\" alt=\"Open In Colab\"/></a>"
      ]
    },
    {
      "cell_type": "markdown",
      "metadata": {
        "id": "ZTQ5FUajel5D"
      },
      "source": [
        "###Defining the Question"
      ]
    },
    {
      "cell_type": "markdown",
      "metadata": {
        "id": "z3nTO4H9ellI"
      },
      "source": [
        "####a. Specifying the Question"
      ]
    },
    {
      "cell_type": "markdown",
      "metadata": {
        "id": "NI5cFbhF5O2q"
      },
      "source": [
        "######This is a study for the factors that affect housing prices using the data on a real estate property then creating a model that would allow the company to accurately predict the sale of prices upon being provided with the predictor variables.*italicised text*"
      ]
    },
    {
      "cell_type": "markdown",
      "metadata": {
        "id": "n38v0IPCe8U3"
      },
      "source": [
        "#### b.Defining the metricfor success."
      ]
    },
    {
      "cell_type": "markdown",
      "metadata": {
        "id": "povCTTcQ830t"
      },
      "source": [
        "######We'll consider our model a success when it is able to accurately predict the respective prices and have a significantly correct accuracy when evaluated"
      ]
    },
    {
      "cell_type": "markdown",
      "metadata": {
        "id": "OstLOWwpfEJq"
      },
      "source": [
        "####c.Understanding the context."
      ]
    },
    {
      "cell_type": "markdown",
      "metadata": {
        "id": "NnKJZG229R4t"
      },
      "source": [
        "######Hass Consulting Company is a real estate leader company that does house prices consultation services to clients. They do researches on how to price houses in different locations in the US and need this research as a guide to future house pricing prediction."
      ]
    },
    {
      "cell_type": "markdown",
      "metadata": {
        "id": "nqZuY6VZf040"
      },
      "source": [
        "####d.Recording the Experimental Design"
      ]
    },
    {
      "cell_type": "markdown",
      "metadata": {
        "id": "yCZCI72--IEJ"
      },
      "source": [
        "\n",
        "\n",
        "1.   Perform Data Cleaning\n",
        "2.   Performing EDA.\n",
        "3.   Perform Feature Enginnering\n",
        "4.   Check for multicollinearity\n",
        "5.   Build model\n",
        "6.   Calculate MSEs and R square\n",
        "7.   Create residual plot and assess heteroskedasticity.\n",
        "\n"
      ]
    },
    {
      "cell_type": "markdown",
      "metadata": {
        "id": "tf7aA7XngFiD"
      },
      "source": [
        "####e. Data Relevance."
      ]
    },
    {
      "cell_type": "markdown",
      "metadata": {
        "id": "vI5DpMZG-2YZ"
      },
      "source": [
        "######The data was collected by Hass Consulting Comapany for the study from regions of their business focus and on houses they concentrate on working on. The provided data is relevant enough for the research."
      ]
    },
    {
      "cell_type": "markdown",
      "metadata": {
        "id": "zMz6oXw2gWfS"
      },
      "source": [
        "####f.Appropriateness of Data"
      ]
    },
    {
      "cell_type": "markdown",
      "metadata": {
        "id": "gsdGzNrK_ZHu"
      },
      "source": [
        "######The provided data is appropriate except that it had a few outliers that were eradicated. The outliers were not that much to cause a big effect on the research"
      ]
    },
    {
      "cell_type": "markdown",
      "metadata": {
        "id": "qRiBbneahNIQ"
      },
      "source": [
        "###Importing Data"
      ]
    },
    {
      "cell_type": "code",
      "metadata": {
        "id": "6ceakp8Vcokk"
      },
      "source": [
        "#importing libraries\n",
        "import numpy as np\n",
        "import pandas as pd\n",
        "import matplotlib.pyplot as plt\n",
        "from sklearn import metrics\n",
        "from sklearn import linear_model\n",
        "from sklearn.model_selection import train_test_split\n",
        "from sklearn.linear_model import LinearRegression\n",
        "import statsmodels.formula.api as smf\n",
        "from sklearn.linear_model import ElasticNet\n",
        "from sklearn.model_selection import GridSearchCV\n",
        "from sklearn.preprocessing import StandardScaler\n",
        "import scipy as sp\n",
        "\n"
      ],
      "execution_count": null,
      "outputs": []
    },
    {
      "cell_type": "code",
      "metadata": {
        "id": "cHKXhJ8ghiuj",
        "colab": {
          "base_uri": "https://localhost:8080/",
          "height": 422
        },
        "outputId": "2d8badfa-0e61-44c0-fba9-544317888ddb"
      },
      "source": [
        "#importing data\n",
        "house_prices = pd.read_csv('/content/Independent Project Week 7 - house_data.csv')\n",
        "house_prices"
      ],
      "execution_count": null,
      "outputs": [
        {
          "output_type": "execute_result",
          "data": {
            "text/html": [
              "<div>\n",
              "<style scoped>\n",
              "    .dataframe tbody tr th:only-of-type {\n",
              "        vertical-align: middle;\n",
              "    }\n",
              "\n",
              "    .dataframe tbody tr th {\n",
              "        vertical-align: top;\n",
              "    }\n",
              "\n",
              "    .dataframe thead th {\n",
              "        text-align: right;\n",
              "    }\n",
              "</style>\n",
              "<table border=\"1\" class=\"dataframe\">\n",
              "  <thead>\n",
              "    <tr style=\"text-align: right;\">\n",
              "      <th></th>\n",
              "      <th>id</th>\n",
              "      <th>price</th>\n",
              "      <th>bedrooms</th>\n",
              "      <th>bathrooms</th>\n",
              "      <th>sqft_living</th>\n",
              "      <th>sqft_lot</th>\n",
              "      <th>floors</th>\n",
              "      <th>waterfront</th>\n",
              "      <th>view</th>\n",
              "      <th>condition</th>\n",
              "      <th>grade</th>\n",
              "      <th>sqft_above</th>\n",
              "      <th>sqft_basement</th>\n",
              "      <th>yr_built</th>\n",
              "      <th>yr_renovated</th>\n",
              "      <th>zipcode</th>\n",
              "      <th>lat</th>\n",
              "      <th>long</th>\n",
              "      <th>sqft_living15</th>\n",
              "      <th>sqft_lot15</th>\n",
              "    </tr>\n",
              "  </thead>\n",
              "  <tbody>\n",
              "    <tr>\n",
              "      <th>0</th>\n",
              "      <td>7129300520</td>\n",
              "      <td>221900.0</td>\n",
              "      <td>3</td>\n",
              "      <td>1.00</td>\n",
              "      <td>1180</td>\n",
              "      <td>5650</td>\n",
              "      <td>1.0</td>\n",
              "      <td>0</td>\n",
              "      <td>0</td>\n",
              "      <td>3</td>\n",
              "      <td>7</td>\n",
              "      <td>1180</td>\n",
              "      <td>0</td>\n",
              "      <td>1955</td>\n",
              "      <td>0</td>\n",
              "      <td>98178</td>\n",
              "      <td>47.5112</td>\n",
              "      <td>-122.257</td>\n",
              "      <td>1340</td>\n",
              "      <td>5650</td>\n",
              "    </tr>\n",
              "    <tr>\n",
              "      <th>1</th>\n",
              "      <td>6414100192</td>\n",
              "      <td>538000.0</td>\n",
              "      <td>3</td>\n",
              "      <td>2.25</td>\n",
              "      <td>2570</td>\n",
              "      <td>7242</td>\n",
              "      <td>2.0</td>\n",
              "      <td>0</td>\n",
              "      <td>0</td>\n",
              "      <td>3</td>\n",
              "      <td>7</td>\n",
              "      <td>2170</td>\n",
              "      <td>400</td>\n",
              "      <td>1951</td>\n",
              "      <td>1991</td>\n",
              "      <td>98125</td>\n",
              "      <td>47.7210</td>\n",
              "      <td>-122.319</td>\n",
              "      <td>1690</td>\n",
              "      <td>7639</td>\n",
              "    </tr>\n",
              "    <tr>\n",
              "      <th>2</th>\n",
              "      <td>5631500400</td>\n",
              "      <td>180000.0</td>\n",
              "      <td>2</td>\n",
              "      <td>1.00</td>\n",
              "      <td>770</td>\n",
              "      <td>10000</td>\n",
              "      <td>1.0</td>\n",
              "      <td>0</td>\n",
              "      <td>0</td>\n",
              "      <td>3</td>\n",
              "      <td>6</td>\n",
              "      <td>770</td>\n",
              "      <td>0</td>\n",
              "      <td>1933</td>\n",
              "      <td>0</td>\n",
              "      <td>98028</td>\n",
              "      <td>47.7379</td>\n",
              "      <td>-122.233</td>\n",
              "      <td>2720</td>\n",
              "      <td>8062</td>\n",
              "    </tr>\n",
              "    <tr>\n",
              "      <th>3</th>\n",
              "      <td>2487200875</td>\n",
              "      <td>604000.0</td>\n",
              "      <td>4</td>\n",
              "      <td>3.00</td>\n",
              "      <td>1960</td>\n",
              "      <td>5000</td>\n",
              "      <td>1.0</td>\n",
              "      <td>0</td>\n",
              "      <td>0</td>\n",
              "      <td>5</td>\n",
              "      <td>7</td>\n",
              "      <td>1050</td>\n",
              "      <td>910</td>\n",
              "      <td>1965</td>\n",
              "      <td>0</td>\n",
              "      <td>98136</td>\n",
              "      <td>47.5208</td>\n",
              "      <td>-122.393</td>\n",
              "      <td>1360</td>\n",
              "      <td>5000</td>\n",
              "    </tr>\n",
              "    <tr>\n",
              "      <th>4</th>\n",
              "      <td>1954400510</td>\n",
              "      <td>510000.0</td>\n",
              "      <td>3</td>\n",
              "      <td>2.00</td>\n",
              "      <td>1680</td>\n",
              "      <td>8080</td>\n",
              "      <td>1.0</td>\n",
              "      <td>0</td>\n",
              "      <td>0</td>\n",
              "      <td>3</td>\n",
              "      <td>8</td>\n",
              "      <td>1680</td>\n",
              "      <td>0</td>\n",
              "      <td>1987</td>\n",
              "      <td>0</td>\n",
              "      <td>98074</td>\n",
              "      <td>47.6168</td>\n",
              "      <td>-122.045</td>\n",
              "      <td>1800</td>\n",
              "      <td>7503</td>\n",
              "    </tr>\n",
              "    <tr>\n",
              "      <th>...</th>\n",
              "      <td>...</td>\n",
              "      <td>...</td>\n",
              "      <td>...</td>\n",
              "      <td>...</td>\n",
              "      <td>...</td>\n",
              "      <td>...</td>\n",
              "      <td>...</td>\n",
              "      <td>...</td>\n",
              "      <td>...</td>\n",
              "      <td>...</td>\n",
              "      <td>...</td>\n",
              "      <td>...</td>\n",
              "      <td>...</td>\n",
              "      <td>...</td>\n",
              "      <td>...</td>\n",
              "      <td>...</td>\n",
              "      <td>...</td>\n",
              "      <td>...</td>\n",
              "      <td>...</td>\n",
              "      <td>...</td>\n",
              "    </tr>\n",
              "    <tr>\n",
              "      <th>21608</th>\n",
              "      <td>263000018</td>\n",
              "      <td>360000.0</td>\n",
              "      <td>3</td>\n",
              "      <td>2.50</td>\n",
              "      <td>1530</td>\n",
              "      <td>1131</td>\n",
              "      <td>3.0</td>\n",
              "      <td>0</td>\n",
              "      <td>0</td>\n",
              "      <td>3</td>\n",
              "      <td>8</td>\n",
              "      <td>1530</td>\n",
              "      <td>0</td>\n",
              "      <td>2009</td>\n",
              "      <td>0</td>\n",
              "      <td>98103</td>\n",
              "      <td>47.6993</td>\n",
              "      <td>-122.346</td>\n",
              "      <td>1530</td>\n",
              "      <td>1509</td>\n",
              "    </tr>\n",
              "    <tr>\n",
              "      <th>21609</th>\n",
              "      <td>6600060120</td>\n",
              "      <td>400000.0</td>\n",
              "      <td>4</td>\n",
              "      <td>2.50</td>\n",
              "      <td>2310</td>\n",
              "      <td>5813</td>\n",
              "      <td>2.0</td>\n",
              "      <td>0</td>\n",
              "      <td>0</td>\n",
              "      <td>3</td>\n",
              "      <td>8</td>\n",
              "      <td>2310</td>\n",
              "      <td>0</td>\n",
              "      <td>2014</td>\n",
              "      <td>0</td>\n",
              "      <td>98146</td>\n",
              "      <td>47.5107</td>\n",
              "      <td>-122.362</td>\n",
              "      <td>1830</td>\n",
              "      <td>7200</td>\n",
              "    </tr>\n",
              "    <tr>\n",
              "      <th>21610</th>\n",
              "      <td>1523300141</td>\n",
              "      <td>402101.0</td>\n",
              "      <td>2</td>\n",
              "      <td>0.75</td>\n",
              "      <td>1020</td>\n",
              "      <td>1350</td>\n",
              "      <td>2.0</td>\n",
              "      <td>0</td>\n",
              "      <td>0</td>\n",
              "      <td>3</td>\n",
              "      <td>7</td>\n",
              "      <td>1020</td>\n",
              "      <td>0</td>\n",
              "      <td>2009</td>\n",
              "      <td>0</td>\n",
              "      <td>98144</td>\n",
              "      <td>47.5944</td>\n",
              "      <td>-122.299</td>\n",
              "      <td>1020</td>\n",
              "      <td>2007</td>\n",
              "    </tr>\n",
              "    <tr>\n",
              "      <th>21611</th>\n",
              "      <td>291310100</td>\n",
              "      <td>400000.0</td>\n",
              "      <td>3</td>\n",
              "      <td>2.50</td>\n",
              "      <td>1600</td>\n",
              "      <td>2388</td>\n",
              "      <td>2.0</td>\n",
              "      <td>0</td>\n",
              "      <td>0</td>\n",
              "      <td>3</td>\n",
              "      <td>8</td>\n",
              "      <td>1600</td>\n",
              "      <td>0</td>\n",
              "      <td>2004</td>\n",
              "      <td>0</td>\n",
              "      <td>98027</td>\n",
              "      <td>47.5345</td>\n",
              "      <td>-122.069</td>\n",
              "      <td>1410</td>\n",
              "      <td>1287</td>\n",
              "    </tr>\n",
              "    <tr>\n",
              "      <th>21612</th>\n",
              "      <td>1523300157</td>\n",
              "      <td>325000.0</td>\n",
              "      <td>2</td>\n",
              "      <td>0.75</td>\n",
              "      <td>1020</td>\n",
              "      <td>1076</td>\n",
              "      <td>2.0</td>\n",
              "      <td>0</td>\n",
              "      <td>0</td>\n",
              "      <td>3</td>\n",
              "      <td>7</td>\n",
              "      <td>1020</td>\n",
              "      <td>0</td>\n",
              "      <td>2008</td>\n",
              "      <td>0</td>\n",
              "      <td>98144</td>\n",
              "      <td>47.5941</td>\n",
              "      <td>-122.299</td>\n",
              "      <td>1020</td>\n",
              "      <td>1357</td>\n",
              "    </tr>\n",
              "  </tbody>\n",
              "</table>\n",
              "<p>21613 rows × 20 columns</p>\n",
              "</div>"
            ],
            "text/plain": [
              "               id     price  bedrooms  ...     long  sqft_living15  sqft_lot15\n",
              "0      7129300520  221900.0         3  ... -122.257           1340        5650\n",
              "1      6414100192  538000.0         3  ... -122.319           1690        7639\n",
              "2      5631500400  180000.0         2  ... -122.233           2720        8062\n",
              "3      2487200875  604000.0         4  ... -122.393           1360        5000\n",
              "4      1954400510  510000.0         3  ... -122.045           1800        7503\n",
              "...           ...       ...       ...  ...      ...            ...         ...\n",
              "21608   263000018  360000.0         3  ... -122.346           1530        1509\n",
              "21609  6600060120  400000.0         4  ... -122.362           1830        7200\n",
              "21610  1523300141  402101.0         2  ... -122.299           1020        2007\n",
              "21611   291310100  400000.0         3  ... -122.069           1410        1287\n",
              "21612  1523300157  325000.0         2  ... -122.299           1020        1357\n",
              "\n",
              "[21613 rows x 20 columns]"
            ]
          },
          "metadata": {
            "tags": []
          },
          "execution_count": 155
        }
      ]
    },
    {
      "cell_type": "code",
      "metadata": {
        "colab": {
          "base_uri": "https://localhost:8080/"
        },
        "id": "-8cfrN4bbGnV",
        "outputId": "d812a678-c9aa-44bf-c6c1-593d811a8411"
      },
      "source": [
        "house_prices.grade.nunique()"
      ],
      "execution_count": null,
      "outputs": [
        {
          "output_type": "execute_result",
          "data": {
            "text/plain": [
              "12"
            ]
          },
          "metadata": {
            "tags": []
          },
          "execution_count": 156
        }
      ]
    },
    {
      "cell_type": "code",
      "metadata": {
        "id": "lVah0RzeY7Tu"
      },
      "source": [
        "#pip install zipcodes\n"
      ],
      "execution_count": null,
      "outputs": []
    },
    {
      "cell_type": "code",
      "metadata": {
        "id": "I5VUSSjkYqYZ"
      },
      "source": [
        "#from pprint import pprint\n",
        "#import zipcodes\n",
        "#for i, row in house_prices.iterrows():\n",
        "#  zip_code = house_prices.loc[i,'zipcode']\n",
        "#  zip_code=zip_code.astype(int)\n",
        "#  zip_code=zip_code.astype(str)\n",
        "#  house_prices.loc[i,'city'] = zipcodes.matching(zip_code)[0][\"city\"]\n",
        "#  house_prices.loc[i,'county'] = zipcodes.matching(zip_code)[0]['county']  \n",
        "        \n",
        "#house_prices.tail()"
      ],
      "execution_count": null,
      "outputs": []
    },
    {
      "cell_type": "code",
      "metadata": {
        "colab": {
          "base_uri": "https://localhost:8080/"
        },
        "id": "CUMBVGJWEjh_",
        "outputId": "45ead2e2-f0c2-45a5-c251-89931996751b"
      },
      "source": [
        "house_prices.waterfront.nunique()"
      ],
      "execution_count": null,
      "outputs": [
        {
          "output_type": "execute_result",
          "data": {
            "text/plain": [
              "2"
            ]
          },
          "metadata": {
            "tags": []
          },
          "execution_count": 159
        }
      ]
    },
    {
      "cell_type": "code",
      "metadata": {
        "colab": {
          "base_uri": "https://localhost:8080/"
        },
        "id": "SAwdEJfxE1Pm",
        "outputId": "80daeda6-daa2-42e0-f38d-857164ca1fc4"
      },
      "source": [
        "house_prices.view.nunique()"
      ],
      "execution_count": null,
      "outputs": [
        {
          "output_type": "execute_result",
          "data": {
            "text/plain": [
              "5"
            ]
          },
          "metadata": {
            "tags": []
          },
          "execution_count": 160
        }
      ]
    },
    {
      "cell_type": "code",
      "metadata": {
        "id": "nD87plEShjTk",
        "colab": {
          "base_uri": "https://localhost:8080/"
        },
        "outputId": "d663c942-6b04-4aa8-b508-9545fd9b41f1"
      },
      "source": [
        "#checking on data\n",
        "print(house_prices.shape)"
      ],
      "execution_count": null,
      "outputs": [
        {
          "output_type": "stream",
          "text": [
            "(21613, 20)\n"
          ],
          "name": "stdout"
        }
      ]
    },
    {
      "cell_type": "code",
      "metadata": {
        "id": "XWYTFqFjhj4j",
        "colab": {
          "base_uri": "https://localhost:8080/"
        },
        "outputId": "a2b32657-df14-4e57-83fc-19cc7b36c3e6"
      },
      "source": [
        "#data types\n",
        "house_prices.dtypes"
      ],
      "execution_count": null,
      "outputs": [
        {
          "output_type": "execute_result",
          "data": {
            "text/plain": [
              "id                 int64\n",
              "price            float64\n",
              "bedrooms           int64\n",
              "bathrooms        float64\n",
              "sqft_living        int64\n",
              "sqft_lot           int64\n",
              "floors           float64\n",
              "waterfront         int64\n",
              "view               int64\n",
              "condition          int64\n",
              "grade              int64\n",
              "sqft_above         int64\n",
              "sqft_basement      int64\n",
              "yr_built           int64\n",
              "yr_renovated       int64\n",
              "zipcode            int64\n",
              "lat              float64\n",
              "long             float64\n",
              "sqft_living15      int64\n",
              "sqft_lot15         int64\n",
              "dtype: object"
            ]
          },
          "metadata": {
            "tags": []
          },
          "execution_count": 162
        }
      ]
    },
    {
      "cell_type": "code",
      "metadata": {
        "id": "fxXtWdCDhkY-",
        "colab": {
          "base_uri": "https://localhost:8080/",
          "height": 304
        },
        "outputId": "7264798f-4c8a-4c7f-de61-e3f7637a7611"
      },
      "source": [
        "#description\n",
        "house_prices.describe()"
      ],
      "execution_count": null,
      "outputs": [
        {
          "output_type": "execute_result",
          "data": {
            "text/html": [
              "<div>\n",
              "<style scoped>\n",
              "    .dataframe tbody tr th:only-of-type {\n",
              "        vertical-align: middle;\n",
              "    }\n",
              "\n",
              "    .dataframe tbody tr th {\n",
              "        vertical-align: top;\n",
              "    }\n",
              "\n",
              "    .dataframe thead th {\n",
              "        text-align: right;\n",
              "    }\n",
              "</style>\n",
              "<table border=\"1\" class=\"dataframe\">\n",
              "  <thead>\n",
              "    <tr style=\"text-align: right;\">\n",
              "      <th></th>\n",
              "      <th>id</th>\n",
              "      <th>price</th>\n",
              "      <th>bedrooms</th>\n",
              "      <th>bathrooms</th>\n",
              "      <th>sqft_living</th>\n",
              "      <th>sqft_lot</th>\n",
              "      <th>floors</th>\n",
              "      <th>waterfront</th>\n",
              "      <th>view</th>\n",
              "      <th>condition</th>\n",
              "      <th>grade</th>\n",
              "      <th>sqft_above</th>\n",
              "      <th>sqft_basement</th>\n",
              "      <th>yr_built</th>\n",
              "      <th>yr_renovated</th>\n",
              "      <th>zipcode</th>\n",
              "      <th>lat</th>\n",
              "      <th>long</th>\n",
              "      <th>sqft_living15</th>\n",
              "      <th>sqft_lot15</th>\n",
              "    </tr>\n",
              "  </thead>\n",
              "  <tbody>\n",
              "    <tr>\n",
              "      <th>count</th>\n",
              "      <td>2.161300e+04</td>\n",
              "      <td>2.161300e+04</td>\n",
              "      <td>21613.000000</td>\n",
              "      <td>21613.000000</td>\n",
              "      <td>21613.000000</td>\n",
              "      <td>2.161300e+04</td>\n",
              "      <td>21613.000000</td>\n",
              "      <td>21613.000000</td>\n",
              "      <td>21613.000000</td>\n",
              "      <td>21613.000000</td>\n",
              "      <td>21613.000000</td>\n",
              "      <td>21613.000000</td>\n",
              "      <td>21613.000000</td>\n",
              "      <td>21613.000000</td>\n",
              "      <td>21613.000000</td>\n",
              "      <td>21613.000000</td>\n",
              "      <td>21613.000000</td>\n",
              "      <td>21613.000000</td>\n",
              "      <td>21613.000000</td>\n",
              "      <td>21613.000000</td>\n",
              "    </tr>\n",
              "    <tr>\n",
              "      <th>mean</th>\n",
              "      <td>4.580302e+09</td>\n",
              "      <td>5.401822e+05</td>\n",
              "      <td>3.370842</td>\n",
              "      <td>2.114757</td>\n",
              "      <td>2079.899736</td>\n",
              "      <td>1.510697e+04</td>\n",
              "      <td>1.494309</td>\n",
              "      <td>0.007542</td>\n",
              "      <td>0.234303</td>\n",
              "      <td>3.409430</td>\n",
              "      <td>7.656873</td>\n",
              "      <td>1788.390691</td>\n",
              "      <td>291.509045</td>\n",
              "      <td>1971.005136</td>\n",
              "      <td>84.402258</td>\n",
              "      <td>98077.939805</td>\n",
              "      <td>47.560053</td>\n",
              "      <td>-122.213896</td>\n",
              "      <td>1986.552492</td>\n",
              "      <td>12768.455652</td>\n",
              "    </tr>\n",
              "    <tr>\n",
              "      <th>std</th>\n",
              "      <td>2.876566e+09</td>\n",
              "      <td>3.673622e+05</td>\n",
              "      <td>0.930062</td>\n",
              "      <td>0.770163</td>\n",
              "      <td>918.440897</td>\n",
              "      <td>4.142051e+04</td>\n",
              "      <td>0.539989</td>\n",
              "      <td>0.086517</td>\n",
              "      <td>0.766318</td>\n",
              "      <td>0.650743</td>\n",
              "      <td>1.175459</td>\n",
              "      <td>828.090978</td>\n",
              "      <td>442.575043</td>\n",
              "      <td>29.373411</td>\n",
              "      <td>401.679240</td>\n",
              "      <td>53.505026</td>\n",
              "      <td>0.138564</td>\n",
              "      <td>0.140828</td>\n",
              "      <td>685.391304</td>\n",
              "      <td>27304.179631</td>\n",
              "    </tr>\n",
              "    <tr>\n",
              "      <th>min</th>\n",
              "      <td>1.000102e+06</td>\n",
              "      <td>7.500000e+04</td>\n",
              "      <td>0.000000</td>\n",
              "      <td>0.000000</td>\n",
              "      <td>290.000000</td>\n",
              "      <td>5.200000e+02</td>\n",
              "      <td>1.000000</td>\n",
              "      <td>0.000000</td>\n",
              "      <td>0.000000</td>\n",
              "      <td>1.000000</td>\n",
              "      <td>1.000000</td>\n",
              "      <td>290.000000</td>\n",
              "      <td>0.000000</td>\n",
              "      <td>1900.000000</td>\n",
              "      <td>0.000000</td>\n",
              "      <td>98001.000000</td>\n",
              "      <td>47.155900</td>\n",
              "      <td>-122.519000</td>\n",
              "      <td>399.000000</td>\n",
              "      <td>651.000000</td>\n",
              "    </tr>\n",
              "    <tr>\n",
              "      <th>25%</th>\n",
              "      <td>2.123049e+09</td>\n",
              "      <td>3.219500e+05</td>\n",
              "      <td>3.000000</td>\n",
              "      <td>1.750000</td>\n",
              "      <td>1427.000000</td>\n",
              "      <td>5.040000e+03</td>\n",
              "      <td>1.000000</td>\n",
              "      <td>0.000000</td>\n",
              "      <td>0.000000</td>\n",
              "      <td>3.000000</td>\n",
              "      <td>7.000000</td>\n",
              "      <td>1190.000000</td>\n",
              "      <td>0.000000</td>\n",
              "      <td>1951.000000</td>\n",
              "      <td>0.000000</td>\n",
              "      <td>98033.000000</td>\n",
              "      <td>47.471000</td>\n",
              "      <td>-122.328000</td>\n",
              "      <td>1490.000000</td>\n",
              "      <td>5100.000000</td>\n",
              "    </tr>\n",
              "    <tr>\n",
              "      <th>50%</th>\n",
              "      <td>3.904930e+09</td>\n",
              "      <td>4.500000e+05</td>\n",
              "      <td>3.000000</td>\n",
              "      <td>2.250000</td>\n",
              "      <td>1910.000000</td>\n",
              "      <td>7.618000e+03</td>\n",
              "      <td>1.500000</td>\n",
              "      <td>0.000000</td>\n",
              "      <td>0.000000</td>\n",
              "      <td>3.000000</td>\n",
              "      <td>7.000000</td>\n",
              "      <td>1560.000000</td>\n",
              "      <td>0.000000</td>\n",
              "      <td>1975.000000</td>\n",
              "      <td>0.000000</td>\n",
              "      <td>98065.000000</td>\n",
              "      <td>47.571800</td>\n",
              "      <td>-122.230000</td>\n",
              "      <td>1840.000000</td>\n",
              "      <td>7620.000000</td>\n",
              "    </tr>\n",
              "    <tr>\n",
              "      <th>75%</th>\n",
              "      <td>7.308900e+09</td>\n",
              "      <td>6.450000e+05</td>\n",
              "      <td>4.000000</td>\n",
              "      <td>2.500000</td>\n",
              "      <td>2550.000000</td>\n",
              "      <td>1.068800e+04</td>\n",
              "      <td>2.000000</td>\n",
              "      <td>0.000000</td>\n",
              "      <td>0.000000</td>\n",
              "      <td>4.000000</td>\n",
              "      <td>8.000000</td>\n",
              "      <td>2210.000000</td>\n",
              "      <td>560.000000</td>\n",
              "      <td>1997.000000</td>\n",
              "      <td>0.000000</td>\n",
              "      <td>98118.000000</td>\n",
              "      <td>47.678000</td>\n",
              "      <td>-122.125000</td>\n",
              "      <td>2360.000000</td>\n",
              "      <td>10083.000000</td>\n",
              "    </tr>\n",
              "    <tr>\n",
              "      <th>max</th>\n",
              "      <td>9.900000e+09</td>\n",
              "      <td>7.700000e+06</td>\n",
              "      <td>33.000000</td>\n",
              "      <td>8.000000</td>\n",
              "      <td>13540.000000</td>\n",
              "      <td>1.651359e+06</td>\n",
              "      <td>3.500000</td>\n",
              "      <td>1.000000</td>\n",
              "      <td>4.000000</td>\n",
              "      <td>5.000000</td>\n",
              "      <td>13.000000</td>\n",
              "      <td>9410.000000</td>\n",
              "      <td>4820.000000</td>\n",
              "      <td>2015.000000</td>\n",
              "      <td>2015.000000</td>\n",
              "      <td>98199.000000</td>\n",
              "      <td>47.777600</td>\n",
              "      <td>-121.315000</td>\n",
              "      <td>6210.000000</td>\n",
              "      <td>871200.000000</td>\n",
              "    </tr>\n",
              "  </tbody>\n",
              "</table>\n",
              "</div>"
            ],
            "text/plain": [
              "                 id         price  ...  sqft_living15     sqft_lot15\n",
              "count  2.161300e+04  2.161300e+04  ...   21613.000000   21613.000000\n",
              "mean   4.580302e+09  5.401822e+05  ...    1986.552492   12768.455652\n",
              "std    2.876566e+09  3.673622e+05  ...     685.391304   27304.179631\n",
              "min    1.000102e+06  7.500000e+04  ...     399.000000     651.000000\n",
              "25%    2.123049e+09  3.219500e+05  ...    1490.000000    5100.000000\n",
              "50%    3.904930e+09  4.500000e+05  ...    1840.000000    7620.000000\n",
              "75%    7.308900e+09  6.450000e+05  ...    2360.000000   10083.000000\n",
              "max    9.900000e+09  7.700000e+06  ...    6210.000000  871200.000000\n",
              "\n",
              "[8 rows x 20 columns]"
            ]
          },
          "metadata": {
            "tags": []
          },
          "execution_count": 163
        }
      ]
    },
    {
      "cell_type": "markdown",
      "metadata": {
        "id": "17GDfJEdhcV0"
      },
      "source": [
        "###Data Preprocessing."
      ]
    },
    {
      "cell_type": "code",
      "metadata": {
        "id": "NUPAu_Wr5YO0"
      },
      "source": [
        "#dropping unnecessary columns\n",
        "house_prices.drop(['id','yr_renovated','yr_built','zipcode','lat','long'],1,inplace=True)\n"
      ],
      "execution_count": null,
      "outputs": []
    },
    {
      "cell_type": "code",
      "metadata": {
        "id": "DSftrw_ShiI-",
        "colab": {
          "base_uri": "https://localhost:8080/"
        },
        "outputId": "3b0c0894-e1d6-4417-af5b-50b6cc35c84b"
      },
      "source": [
        "#checking for null values\n",
        "#df.isnull().sum()\n",
        "#df.dropna()\n",
        "\n",
        "house_prices.isnull().sum()"
      ],
      "execution_count": null,
      "outputs": [
        {
          "output_type": "execute_result",
          "data": {
            "text/plain": [
              "price            0\n",
              "bedrooms         0\n",
              "bathrooms        0\n",
              "sqft_living      0\n",
              "sqft_lot         0\n",
              "floors           0\n",
              "waterfront       0\n",
              "view             0\n",
              "condition        0\n",
              "grade            0\n",
              "sqft_above       0\n",
              "sqft_basement    0\n",
              "sqft_living15    0\n",
              "sqft_lot15       0\n",
              "dtype: int64"
            ]
          },
          "metadata": {
            "tags": []
          },
          "execution_count": 165
        }
      ]
    },
    {
      "cell_type": "code",
      "metadata": {
        "id": "OUu5Cs80jJqI",
        "colab": {
          "base_uri": "https://localhost:8080/"
        },
        "outputId": "31d7107c-e08f-4c1b-ef5d-e600e44aa146"
      },
      "source": [
        "#checking for duplicates\n",
        "#df.duplicated().sum()\n",
        "house_prices.duplicated().sum()\n",
        "house_prices.drop_duplicates(inplace=True)\n",
        "\n",
        "house_prices.duplicated().sum()\n"
      ],
      "execution_count": null,
      "outputs": [
        {
          "output_type": "execute_result",
          "data": {
            "text/plain": [
              "0"
            ]
          },
          "metadata": {
            "tags": []
          },
          "execution_count": 166
        }
      ]
    },
    {
      "cell_type": "code",
      "metadata": {
        "id": "gtei8hgYjLqy",
        "colab": {
          "base_uri": "https://localhost:8080/"
        },
        "outputId": "4abf6f2a-c9c9-48d7-d16b-f9b3de7285e8"
      },
      "source": [
        "#outliers\n",
        "bedrooms = house_prices['bedrooms'] \n",
        "\n",
        "Q3 = bedrooms.quantile(0.75)\n",
        "Q1 = bedrooms.quantile(0.25)\n",
        "IQR = Q3-Q1\n",
        "IQR\n",
        "\n",
        "house_prices['bedrooms'] = bedrooms[~((bedrooms<(Q1-1.5*IQR)) | (bedrooms>(Q3+1.5*IQR)))]\n",
        "house_prices.shape"
      ],
      "execution_count": null,
      "outputs": [
        {
          "output_type": "execute_result",
          "data": {
            "text/plain": [
              "(21606, 14)"
            ]
          },
          "metadata": {
            "tags": []
          },
          "execution_count": 167
        }
      ]
    },
    {
      "cell_type": "code",
      "metadata": {
        "colab": {
          "base_uri": "https://localhost:8080/",
          "height": 422
        },
        "id": "WYDWkvEI4jhI",
        "outputId": "39f61298-d392-4f27-8e83-4168c7eab6c4"
      },
      "source": [
        "house_prices"
      ],
      "execution_count": null,
      "outputs": [
        {
          "output_type": "execute_result",
          "data": {
            "text/html": [
              "<div>\n",
              "<style scoped>\n",
              "    .dataframe tbody tr th:only-of-type {\n",
              "        vertical-align: middle;\n",
              "    }\n",
              "\n",
              "    .dataframe tbody tr th {\n",
              "        vertical-align: top;\n",
              "    }\n",
              "\n",
              "    .dataframe thead th {\n",
              "        text-align: right;\n",
              "    }\n",
              "</style>\n",
              "<table border=\"1\" class=\"dataframe\">\n",
              "  <thead>\n",
              "    <tr style=\"text-align: right;\">\n",
              "      <th></th>\n",
              "      <th>price</th>\n",
              "      <th>bedrooms</th>\n",
              "      <th>bathrooms</th>\n",
              "      <th>sqft_living</th>\n",
              "      <th>sqft_lot</th>\n",
              "      <th>floors</th>\n",
              "      <th>waterfront</th>\n",
              "      <th>view</th>\n",
              "      <th>condition</th>\n",
              "      <th>grade</th>\n",
              "      <th>sqft_above</th>\n",
              "      <th>sqft_basement</th>\n",
              "      <th>sqft_living15</th>\n",
              "      <th>sqft_lot15</th>\n",
              "    </tr>\n",
              "  </thead>\n",
              "  <tbody>\n",
              "    <tr>\n",
              "      <th>0</th>\n",
              "      <td>221900.0</td>\n",
              "      <td>3.0</td>\n",
              "      <td>1.00</td>\n",
              "      <td>1180</td>\n",
              "      <td>5650</td>\n",
              "      <td>1.0</td>\n",
              "      <td>0</td>\n",
              "      <td>0</td>\n",
              "      <td>3</td>\n",
              "      <td>7</td>\n",
              "      <td>1180</td>\n",
              "      <td>0</td>\n",
              "      <td>1340</td>\n",
              "      <td>5650</td>\n",
              "    </tr>\n",
              "    <tr>\n",
              "      <th>1</th>\n",
              "      <td>538000.0</td>\n",
              "      <td>3.0</td>\n",
              "      <td>2.25</td>\n",
              "      <td>2570</td>\n",
              "      <td>7242</td>\n",
              "      <td>2.0</td>\n",
              "      <td>0</td>\n",
              "      <td>0</td>\n",
              "      <td>3</td>\n",
              "      <td>7</td>\n",
              "      <td>2170</td>\n",
              "      <td>400</td>\n",
              "      <td>1690</td>\n",
              "      <td>7639</td>\n",
              "    </tr>\n",
              "    <tr>\n",
              "      <th>2</th>\n",
              "      <td>180000.0</td>\n",
              "      <td>2.0</td>\n",
              "      <td>1.00</td>\n",
              "      <td>770</td>\n",
              "      <td>10000</td>\n",
              "      <td>1.0</td>\n",
              "      <td>0</td>\n",
              "      <td>0</td>\n",
              "      <td>3</td>\n",
              "      <td>6</td>\n",
              "      <td>770</td>\n",
              "      <td>0</td>\n",
              "      <td>2720</td>\n",
              "      <td>8062</td>\n",
              "    </tr>\n",
              "    <tr>\n",
              "      <th>3</th>\n",
              "      <td>604000.0</td>\n",
              "      <td>4.0</td>\n",
              "      <td>3.00</td>\n",
              "      <td>1960</td>\n",
              "      <td>5000</td>\n",
              "      <td>1.0</td>\n",
              "      <td>0</td>\n",
              "      <td>0</td>\n",
              "      <td>5</td>\n",
              "      <td>7</td>\n",
              "      <td>1050</td>\n",
              "      <td>910</td>\n",
              "      <td>1360</td>\n",
              "      <td>5000</td>\n",
              "    </tr>\n",
              "    <tr>\n",
              "      <th>4</th>\n",
              "      <td>510000.0</td>\n",
              "      <td>3.0</td>\n",
              "      <td>2.00</td>\n",
              "      <td>1680</td>\n",
              "      <td>8080</td>\n",
              "      <td>1.0</td>\n",
              "      <td>0</td>\n",
              "      <td>0</td>\n",
              "      <td>3</td>\n",
              "      <td>8</td>\n",
              "      <td>1680</td>\n",
              "      <td>0</td>\n",
              "      <td>1800</td>\n",
              "      <td>7503</td>\n",
              "    </tr>\n",
              "    <tr>\n",
              "      <th>...</th>\n",
              "      <td>...</td>\n",
              "      <td>...</td>\n",
              "      <td>...</td>\n",
              "      <td>...</td>\n",
              "      <td>...</td>\n",
              "      <td>...</td>\n",
              "      <td>...</td>\n",
              "      <td>...</td>\n",
              "      <td>...</td>\n",
              "      <td>...</td>\n",
              "      <td>...</td>\n",
              "      <td>...</td>\n",
              "      <td>...</td>\n",
              "      <td>...</td>\n",
              "    </tr>\n",
              "    <tr>\n",
              "      <th>21608</th>\n",
              "      <td>360000.0</td>\n",
              "      <td>3.0</td>\n",
              "      <td>2.50</td>\n",
              "      <td>1530</td>\n",
              "      <td>1131</td>\n",
              "      <td>3.0</td>\n",
              "      <td>0</td>\n",
              "      <td>0</td>\n",
              "      <td>3</td>\n",
              "      <td>8</td>\n",
              "      <td>1530</td>\n",
              "      <td>0</td>\n",
              "      <td>1530</td>\n",
              "      <td>1509</td>\n",
              "    </tr>\n",
              "    <tr>\n",
              "      <th>21609</th>\n",
              "      <td>400000.0</td>\n",
              "      <td>4.0</td>\n",
              "      <td>2.50</td>\n",
              "      <td>2310</td>\n",
              "      <td>5813</td>\n",
              "      <td>2.0</td>\n",
              "      <td>0</td>\n",
              "      <td>0</td>\n",
              "      <td>3</td>\n",
              "      <td>8</td>\n",
              "      <td>2310</td>\n",
              "      <td>0</td>\n",
              "      <td>1830</td>\n",
              "      <td>7200</td>\n",
              "    </tr>\n",
              "    <tr>\n",
              "      <th>21610</th>\n",
              "      <td>402101.0</td>\n",
              "      <td>2.0</td>\n",
              "      <td>0.75</td>\n",
              "      <td>1020</td>\n",
              "      <td>1350</td>\n",
              "      <td>2.0</td>\n",
              "      <td>0</td>\n",
              "      <td>0</td>\n",
              "      <td>3</td>\n",
              "      <td>7</td>\n",
              "      <td>1020</td>\n",
              "      <td>0</td>\n",
              "      <td>1020</td>\n",
              "      <td>2007</td>\n",
              "    </tr>\n",
              "    <tr>\n",
              "      <th>21611</th>\n",
              "      <td>400000.0</td>\n",
              "      <td>3.0</td>\n",
              "      <td>2.50</td>\n",
              "      <td>1600</td>\n",
              "      <td>2388</td>\n",
              "      <td>2.0</td>\n",
              "      <td>0</td>\n",
              "      <td>0</td>\n",
              "      <td>3</td>\n",
              "      <td>8</td>\n",
              "      <td>1600</td>\n",
              "      <td>0</td>\n",
              "      <td>1410</td>\n",
              "      <td>1287</td>\n",
              "    </tr>\n",
              "    <tr>\n",
              "      <th>21612</th>\n",
              "      <td>325000.0</td>\n",
              "      <td>2.0</td>\n",
              "      <td>0.75</td>\n",
              "      <td>1020</td>\n",
              "      <td>1076</td>\n",
              "      <td>2.0</td>\n",
              "      <td>0</td>\n",
              "      <td>0</td>\n",
              "      <td>3</td>\n",
              "      <td>7</td>\n",
              "      <td>1020</td>\n",
              "      <td>0</td>\n",
              "      <td>1020</td>\n",
              "      <td>1357</td>\n",
              "    </tr>\n",
              "  </tbody>\n",
              "</table>\n",
              "<p>21606 rows × 14 columns</p>\n",
              "</div>"
            ],
            "text/plain": [
              "          price  bedrooms  bathrooms  ...  sqft_basement  sqft_living15  sqft_lot15\n",
              "0      221900.0       3.0       1.00  ...              0           1340        5650\n",
              "1      538000.0       3.0       2.25  ...            400           1690        7639\n",
              "2      180000.0       2.0       1.00  ...              0           2720        8062\n",
              "3      604000.0       4.0       3.00  ...            910           1360        5000\n",
              "4      510000.0       3.0       2.00  ...              0           1800        7503\n",
              "...         ...       ...        ...  ...            ...            ...         ...\n",
              "21608  360000.0       3.0       2.50  ...              0           1530        1509\n",
              "21609  400000.0       4.0       2.50  ...              0           1830        7200\n",
              "21610  402101.0       2.0       0.75  ...              0           1020        2007\n",
              "21611  400000.0       3.0       2.50  ...              0           1410        1287\n",
              "21612  325000.0       2.0       0.75  ...              0           1020        1357\n",
              "\n",
              "[21606 rows x 14 columns]"
            ]
          },
          "metadata": {
            "tags": []
          },
          "execution_count": 168
        }
      ]
    },
    {
      "cell_type": "code",
      "metadata": {
        "colab": {
          "base_uri": "https://localhost:8080/"
        },
        "id": "NKUXazCs4z0q",
        "outputId": "1e58ba8c-41f9-4240-a19c-a66e25ed76ef"
      },
      "source": [
        "house_prices.isnull().sum()\n",
        "house_prices.dropna(inplace=True)\n",
        "\n",
        "house_prices.isnull().sum()"
      ],
      "execution_count": null,
      "outputs": [
        {
          "output_type": "execute_result",
          "data": {
            "text/plain": [
              "price            0\n",
              "bedrooms         0\n",
              "bathrooms        0\n",
              "sqft_living      0\n",
              "sqft_lot         0\n",
              "floors           0\n",
              "waterfront       0\n",
              "view             0\n",
              "condition        0\n",
              "grade            0\n",
              "sqft_above       0\n",
              "sqft_basement    0\n",
              "sqft_living15    0\n",
              "sqft_lot15       0\n",
              "dtype: int64"
            ]
          },
          "metadata": {
            "tags": []
          },
          "execution_count": 169
        }
      ]
    },
    {
      "cell_type": "markdown",
      "metadata": {
        "id": "cFUjrgXfm0O-"
      },
      "source": [
        "###Exploratory Data Analysis"
      ]
    },
    {
      "cell_type": "markdown",
      "metadata": {
        "id": "_JyMgw3AmFKN"
      },
      "source": [
        "####Univariate Analysis."
      ]
    },
    {
      "cell_type": "code",
      "metadata": {
        "id": "x8oF_5OrmYno"
      },
      "source": [
        "#distplotgs\n",
        "#barplots\n",
        "#histograms\n",
        "#piecharts\n",
        "#linecharts"
      ],
      "execution_count": null,
      "outputs": []
    },
    {
      "cell_type": "code",
      "metadata": {
        "colab": {
          "base_uri": "https://localhost:8080/"
        },
        "id": "AA09GgIhHeuV",
        "outputId": "dcf259b9-b717-4d5e-e19b-021a994b475d"
      },
      "source": [
        "house_prices.columns"
      ],
      "execution_count": null,
      "outputs": [
        {
          "output_type": "execute_result",
          "data": {
            "text/plain": [
              "Index(['price', 'bedrooms', 'bathrooms', 'sqft_living', 'sqft_lot', 'floors',\n",
              "       'waterfront', 'view', 'condition', 'grade', 'sqft_above',\n",
              "       'sqft_basement', 'sqft_living15', 'sqft_lot15'],\n",
              "      dtype='object')"
            ]
          },
          "metadata": {
            "tags": []
          },
          "execution_count": 171
        }
      ]
    },
    {
      "cell_type": "code",
      "metadata": {
        "colab": {
          "base_uri": "https://localhost:8080/",
          "height": 470
        },
        "id": "bgQ4hD-KLkK_",
        "outputId": "602adf65-f9b7-4002-bf98-8db8a9bc6529"
      },
      "source": [
        "plt.subplots(figsize=(10,7))\n",
        "sns.distplot(house_prices.price)"
      ],
      "execution_count": null,
      "outputs": [
        {
          "output_type": "execute_result",
          "data": {
            "text/plain": [
              "<matplotlib.axes._subplots.AxesSubplot at 0x7f5a72d10c50>"
            ]
          },
          "metadata": {
            "tags": []
          },
          "execution_count": 172
        },
        {
          "output_type": "display_data",
          "data": {
            "image/png": "[encoded data removed]",
            "text/plain": [
              "<Figure size 720x504 with 1 Axes>"
            ]
          },
          "metadata": {
            "tags": [],
            "needs_background": "light"
          }
        }
      ]
    },
    {
      "cell_type": "markdown",
      "metadata": {
        "id": "aGq3GWZDOR3L"
      },
      "source": [
        "######Most house prices range above 250000 to 600000"
      ]
    },
    {
      "cell_type": "code",
      "metadata": {
        "colab": {
          "base_uri": "https://localhost:8080/",
          "height": 288
        },
        "id": "0aE84gi5CIpB",
        "outputId": "6e87c2b9-4d59-4dd6-b06f-d50c0e99af27"
      },
      "source": [
        "#checking on the number of houses used for the analysis per number of bedroomas\n",
        "\n",
        "house_prices['bedrooms'].value_counts().sort_index().plot.bar()\n"
      ],
      "execution_count": null,
      "outputs": [
        {
          "output_type": "execute_result",
          "data": {
            "text/plain": [
              "<matplotlib.axes._subplots.AxesSubplot at 0x7f5a6766ec50>"
            ]
          },
          "metadata": {
            "tags": []
          },
          "execution_count": 173
        },
        {
          "output_type": "display_data",
          "data": {
            "image/png": "[encoded data removed]",
            "text/plain": [
              "<Figure size 432x288 with 1 Axes>"
            ]
          },
          "metadata": {
            "tags": [],
            "needs_background": "light"
          }
        }
      ]
    },
    {
      "cell_type": "markdown",
      "metadata": {
        "id": "angof20MObPq"
      },
      "source": [
        "######Most houses used for the study were three bedroomed housses"
      ]
    },
    {
      "cell_type": "code",
      "metadata": {
        "colab": {
          "base_uri": "https://localhost:8080/",
          "height": 295
        },
        "id": "8eG9UdT8I9a1",
        "outputId": "c34a7598-39ed-4a31-981d-4c1783e9f051"
      },
      "source": [
        "#checking on the number of houses used for the analysis per number of bathrooms\n",
        "\n",
        "house_prices['bathrooms'].value_counts().sort_index().plot.bar()\n"
      ],
      "execution_count": null,
      "outputs": [
        {
          "output_type": "execute_result",
          "data": {
            "text/plain": [
              "<matplotlib.axes._subplots.AxesSubplot at 0x7f5a676a6588>"
            ]
          },
          "metadata": {
            "tags": []
          },
          "execution_count": 174
        },
        {
          "output_type": "display_data",
          "data": {
            "image/png": "[encoded data removed]",
            "text/plain": [
              "<Figure size 432x288 with 1 Axes>"
            ]
          },
          "metadata": {
            "tags": [],
            "needs_background": "light"
          }
        }
      ]
    },
    {
      "cell_type": "code",
      "metadata": {
        "colab": {
          "base_uri": "https://localhost:8080/",
          "height": 285
        },
        "id": "KHD8uaqoI9vA",
        "outputId": "c88bfdd0-3e86-4085-f905-f6c7213bc04e"
      },
      "source": [
        "#checking on the number of houses used for the analysis per number of grade\n",
        "\n",
        "house_prices['grade'].value_counts().sort_index().plot.bar()\n"
      ],
      "execution_count": null,
      "outputs": [
        {
          "output_type": "execute_result",
          "data": {
            "text/plain": [
              "<matplotlib.axes._subplots.AxesSubplot at 0x7f5a675c9c18>"
            ]
          },
          "metadata": {
            "tags": []
          },
          "execution_count": 175
        },
        {
          "output_type": "display_data",
          "data": {
            "image/png": "[encoded data removed]",
            "text/plain": [
              "<Figure size 432x288 with 1 Axes>"
            ]
          },
          "metadata": {
            "tags": [],
            "needs_background": "light"
          }
        }
      ]
    },
    {
      "cell_type": "code",
      "metadata": {
        "colab": {
          "base_uri": "https://localhost:8080/",
          "height": 285
        },
        "id": "RWQ7hvLTJmI4",
        "outputId": "80c6b025-538a-4dc1-82bf-fc3dd77790dc"
      },
      "source": [
        "#checking on the number of houses used for the analysis per number of grade\n",
        "\n",
        "house_prices['grade'].value_counts().sort_index().plot.bar()\n"
      ],
      "execution_count": null,
      "outputs": [
        {
          "output_type": "execute_result",
          "data": {
            "text/plain": [
              "<matplotlib.axes._subplots.AxesSubplot at 0x7f5a6a31b2e8>"
            ]
          },
          "metadata": {
            "tags": []
          },
          "execution_count": 176
        },
        {
          "output_type": "display_data",
          "data": {
            "image/png": "[encoded data removed]",
            "text/plain": [
              "<Figure size 432x288 with 1 Axes>"
            ]
          },
          "metadata": {
            "tags": [],
            "needs_background": "light"
          }
        }
      ]
    },
    {
      "cell_type": "markdown",
      "metadata": {
        "id": "Fljr1sACmZ3V"
      },
      "source": [
        "####Bivariate Analysis"
      ]
    },
    {
      "cell_type": "markdown",
      "metadata": {
        "id": "qMrzzGKJscSx"
      },
      "source": [
        "#####Multicollinearity"
      ]
    },
    {
      "cell_type": "code",
      "metadata": {
        "id": "G1SYUBt-sVwa"
      },
      "source": [
        "#heatmap\n",
        "#pairplot\n",
        "#correlations = df.corr()"
      ],
      "execution_count": null,
      "outputs": []
    },
    {
      "cell_type": "code",
      "metadata": {
        "colab": {
          "base_uri": "https://localhost:8080/",
          "height": 676
        },
        "id": "LDwOVrPq9RUI",
        "outputId": "7ec59e16-872c-43a8-dda0-90d3ddeb4040"
      },
      "source": [
        "import seaborn as sns\n",
        "\n",
        "plt.subplots(figsize=(10,10))\n",
        "sns.heatmap(house_prices.corr(),annot=True)"
      ],
      "execution_count": null,
      "outputs": [
        {
          "output_type": "execute_result",
          "data": {
            "text/plain": [
              "<matplotlib.axes._subplots.AxesSubplot at 0x7f5a6a42ada0>"
            ]
          },
          "metadata": {
            "tags": []
          },
          "execution_count": 178
        },
        {
          "output_type": "display_data",
          "data": {
            "image/png": "[encoded data removed]",
            "text/plain": [
              "<Figure size 720x720 with 2 Axes>"
            ]
          },
          "metadata": {
            "tags": [],
            "needs_background": "light"
          }
        }
      ]
    },
    {
      "cell_type": "code",
      "metadata": {
        "colab": {
          "base_uri": "https://localhost:8080/",
          "height": 452
        },
        "id": "TMFj4TrQ8ChI",
        "outputId": "4abc9f3c-0ae3-47b7-d03d-aed7c463f37c"
      },
      "source": [
        "independent = house_prices.drop('price', axis=1)\n",
        "correlations = independent.corr()\n",
        "correlations"
      ],
      "execution_count": null,
      "outputs": [
        {
          "output_type": "execute_result",
          "data": {
            "text/html": [
              "<div>\n",
              "<style scoped>\n",
              "    .dataframe tbody tr th:only-of-type {\n",
              "        vertical-align: middle;\n",
              "    }\n",
              "\n",
              "    .dataframe tbody tr th {\n",
              "        vertical-align: top;\n",
              "    }\n",
              "\n",
              "    .dataframe thead th {\n",
              "        text-align: right;\n",
              "    }\n",
              "</style>\n",
              "<table border=\"1\" class=\"dataframe\">\n",
              "  <thead>\n",
              "    <tr style=\"text-align: right;\">\n",
              "      <th></th>\n",
              "      <th>bedrooms</th>\n",
              "      <th>bathrooms</th>\n",
              "      <th>sqft_living</th>\n",
              "      <th>sqft_lot</th>\n",
              "      <th>floors</th>\n",
              "      <th>waterfront</th>\n",
              "      <th>view</th>\n",
              "      <th>condition</th>\n",
              "      <th>grade</th>\n",
              "      <th>sqft_above</th>\n",
              "      <th>sqft_basement</th>\n",
              "      <th>sqft_living15</th>\n",
              "      <th>sqft_lot15</th>\n",
              "    </tr>\n",
              "  </thead>\n",
              "  <tbody>\n",
              "    <tr>\n",
              "      <th>bedrooms</th>\n",
              "      <td>1.000000</td>\n",
              "      <td>0.505010</td>\n",
              "      <td>0.583583</td>\n",
              "      <td>0.036083</td>\n",
              "      <td>0.178574</td>\n",
              "      <td>-0.004555</td>\n",
              "      <td>0.076718</td>\n",
              "      <td>0.017160</td>\n",
              "      <td>0.370631</td>\n",
              "      <td>0.489351</td>\n",
              "      <td>0.279647</td>\n",
              "      <td>0.424745</td>\n",
              "      <td>0.036003</td>\n",
              "    </tr>\n",
              "    <tr>\n",
              "      <th>bathrooms</th>\n",
              "      <td>0.505010</td>\n",
              "      <td>1.000000</td>\n",
              "      <td>0.746016</td>\n",
              "      <td>0.088121</td>\n",
              "      <td>0.505526</td>\n",
              "      <td>0.066690</td>\n",
              "      <td>0.183096</td>\n",
              "      <td>-0.134533</td>\n",
              "      <td>0.668973</td>\n",
              "      <td>0.676574</td>\n",
              "      <td>0.261832</td>\n",
              "      <td>0.573806</td>\n",
              "      <td>0.089080</td>\n",
              "    </tr>\n",
              "    <tr>\n",
              "      <th>sqft_living</th>\n",
              "      <td>0.583583</td>\n",
              "      <td>0.746016</td>\n",
              "      <td>1.000000</td>\n",
              "      <td>0.173130</td>\n",
              "      <td>0.348947</td>\n",
              "      <td>0.109444</td>\n",
              "      <td>0.279416</td>\n",
              "      <td>-0.068204</td>\n",
              "      <td>0.765845</td>\n",
              "      <td>0.874044</td>\n",
              "      <td>0.412604</td>\n",
              "      <td>0.763573</td>\n",
              "      <td>0.185771</td>\n",
              "    </tr>\n",
              "    <tr>\n",
              "      <th>sqft_lot</th>\n",
              "      <td>0.036083</td>\n",
              "      <td>0.088121</td>\n",
              "      <td>0.173130</td>\n",
              "      <td>1.000000</td>\n",
              "      <td>-0.007749</td>\n",
              "      <td>0.021803</td>\n",
              "      <td>0.074639</td>\n",
              "      <td>-0.010886</td>\n",
              "      <td>0.115609</td>\n",
              "      <td>0.182739</td>\n",
              "      <td>0.012532</td>\n",
              "      <td>0.143193</td>\n",
              "      <td>0.715532</td>\n",
              "    </tr>\n",
              "    <tr>\n",
              "      <th>floors</th>\n",
              "      <td>0.178574</td>\n",
              "      <td>0.505526</td>\n",
              "      <td>0.348947</td>\n",
              "      <td>-0.007749</td>\n",
              "      <td>1.000000</td>\n",
              "      <td>0.025095</td>\n",
              "      <td>0.024923</td>\n",
              "      <td>-0.270455</td>\n",
              "      <td>0.455436</td>\n",
              "      <td>0.520434</td>\n",
              "      <td>-0.259947</td>\n",
              "      <td>0.276368</td>\n",
              "      <td>-0.014027</td>\n",
              "    </tr>\n",
              "    <tr>\n",
              "      <th>waterfront</th>\n",
              "      <td>-0.004555</td>\n",
              "      <td>0.066690</td>\n",
              "      <td>0.109444</td>\n",
              "      <td>0.021803</td>\n",
              "      <td>0.025095</td>\n",
              "      <td>1.000000</td>\n",
              "      <td>0.399987</td>\n",
              "      <td>0.014437</td>\n",
              "      <td>0.086820</td>\n",
              "      <td>0.074847</td>\n",
              "      <td>0.084177</td>\n",
              "      <td>0.086874</td>\n",
              "      <td>0.031726</td>\n",
              "    </tr>\n",
              "    <tr>\n",
              "      <th>view</th>\n",
              "      <td>0.076718</td>\n",
              "      <td>0.183096</td>\n",
              "      <td>0.279416</td>\n",
              "      <td>0.074639</td>\n",
              "      <td>0.024923</td>\n",
              "      <td>0.399987</td>\n",
              "      <td>1.000000</td>\n",
              "      <td>0.044310</td>\n",
              "      <td>0.248651</td>\n",
              "      <td>0.159200</td>\n",
              "      <td>0.274694</td>\n",
              "      <td>0.275101</td>\n",
              "      <td>0.072072</td>\n",
              "    </tr>\n",
              "    <tr>\n",
              "      <th>condition</th>\n",
              "      <td>0.017160</td>\n",
              "      <td>-0.134533</td>\n",
              "      <td>-0.068204</td>\n",
              "      <td>-0.010886</td>\n",
              "      <td>-0.270455</td>\n",
              "      <td>0.014437</td>\n",
              "      <td>0.044310</td>\n",
              "      <td>1.000000</td>\n",
              "      <td>-0.156748</td>\n",
              "      <td>-0.168504</td>\n",
              "      <td>0.176017</td>\n",
              "      <td>-0.099831</td>\n",
              "      <td>-0.005375</td>\n",
              "    </tr>\n",
              "    <tr>\n",
              "      <th>grade</th>\n",
              "      <td>0.370631</td>\n",
              "      <td>0.668973</td>\n",
              "      <td>0.765845</td>\n",
              "      <td>0.115609</td>\n",
              "      <td>0.455436</td>\n",
              "      <td>0.086820</td>\n",
              "      <td>0.248651</td>\n",
              "      <td>-0.156748</td>\n",
              "      <td>1.000000</td>\n",
              "      <td>0.757182</td>\n",
              "      <td>0.151377</td>\n",
              "      <td>0.714246</td>\n",
              "      <td>0.123514</td>\n",
              "    </tr>\n",
              "    <tr>\n",
              "      <th>sqft_above</th>\n",
              "      <td>0.489351</td>\n",
              "      <td>0.676574</td>\n",
              "      <td>0.874044</td>\n",
              "      <td>0.182739</td>\n",
              "      <td>0.520434</td>\n",
              "      <td>0.074847</td>\n",
              "      <td>0.159200</td>\n",
              "      <td>-0.168504</td>\n",
              "      <td>0.757182</td>\n",
              "      <td>1.000000</td>\n",
              "      <td>-0.081928</td>\n",
              "      <td>0.735545</td>\n",
              "      <td>0.194630</td>\n",
              "    </tr>\n",
              "    <tr>\n",
              "      <th>sqft_basement</th>\n",
              "      <td>0.279647</td>\n",
              "      <td>0.261832</td>\n",
              "      <td>0.412604</td>\n",
              "      <td>0.012532</td>\n",
              "      <td>-0.259947</td>\n",
              "      <td>0.084177</td>\n",
              "      <td>0.274694</td>\n",
              "      <td>0.176017</td>\n",
              "      <td>0.151377</td>\n",
              "      <td>-0.081928</td>\n",
              "      <td>1.000000</td>\n",
              "      <td>0.187282</td>\n",
              "      <td>0.016168</td>\n",
              "    </tr>\n",
              "    <tr>\n",
              "      <th>sqft_living15</th>\n",
              "      <td>0.424745</td>\n",
              "      <td>0.573806</td>\n",
              "      <td>0.763573</td>\n",
              "      <td>0.143193</td>\n",
              "      <td>0.276368</td>\n",
              "      <td>0.086874</td>\n",
              "      <td>0.275101</td>\n",
              "      <td>-0.099831</td>\n",
              "      <td>0.714246</td>\n",
              "      <td>0.735545</td>\n",
              "      <td>0.187282</td>\n",
              "      <td>1.000000</td>\n",
              "      <td>0.182614</td>\n",
              "    </tr>\n",
              "    <tr>\n",
              "      <th>sqft_lot15</th>\n",
              "      <td>0.036003</td>\n",
              "      <td>0.089080</td>\n",
              "      <td>0.185771</td>\n",
              "      <td>0.715532</td>\n",
              "      <td>-0.014027</td>\n",
              "      <td>0.031726</td>\n",
              "      <td>0.072072</td>\n",
              "      <td>-0.005375</td>\n",
              "      <td>0.123514</td>\n",
              "      <td>0.194630</td>\n",
              "      <td>0.016168</td>\n",
              "      <td>0.182614</td>\n",
              "      <td>1.000000</td>\n",
              "    </tr>\n",
              "  </tbody>\n",
              "</table>\n",
              "</div>"
            ],
            "text/plain": [
              "               bedrooms  bathrooms  ...  sqft_living15  sqft_lot15\n",
              "bedrooms       1.000000   0.505010  ...       0.424745    0.036003\n",
              "bathrooms      0.505010   1.000000  ...       0.573806    0.089080\n",
              "sqft_living    0.583583   0.746016  ...       0.763573    0.185771\n",
              "sqft_lot       0.036083   0.088121  ...       0.143193    0.715532\n",
              "floors         0.178574   0.505526  ...       0.276368   -0.014027\n",
              "waterfront    -0.004555   0.066690  ...       0.086874    0.031726\n",
              "view           0.076718   0.183096  ...       0.275101    0.072072\n",
              "condition      0.017160  -0.134533  ...      -0.099831   -0.005375\n",
              "grade          0.370631   0.668973  ...       0.714246    0.123514\n",
              "sqft_above     0.489351   0.676574  ...       0.735545    0.194630\n",
              "sqft_basement  0.279647   0.261832  ...       0.187282    0.016168\n",
              "sqft_living15  0.424745   0.573806  ...       1.000000    0.182614\n",
              "sqft_lot15     0.036003   0.089080  ...       0.182614    1.000000\n",
              "\n",
              "[13 rows x 13 columns]"
            ]
          },
          "metadata": {
            "tags": []
          },
          "execution_count": 179
        }
      ]
    },
    {
      "cell_type": "markdown",
      "metadata": {
        "id": "M4UUvEOQtBty"
      },
      "source": [
        "#####vif"
      ]
    },
    {
      "cell_type": "code",
      "metadata": {
        "id": "Cklq5_NftAd7",
        "colab": {
          "base_uri": "https://localhost:8080/",
          "height": 452
        },
        "outputId": "a93b6625-6a1c-481d-f299-a1c158d19bcf"
      },
      "source": [
        "pd.DataFrame(np.linalg.inv(correlations.values), index = correlations.index, columns=correlations.columns)\n"
      ],
      "execution_count": null,
      "outputs": [
        {
          "output_type": "execute_result",
          "data": {
            "text/html": [
              "<div>\n",
              "<style scoped>\n",
              "    .dataframe tbody tr th:only-of-type {\n",
              "        vertical-align: middle;\n",
              "    }\n",
              "\n",
              "    .dataframe tbody tr th {\n",
              "        vertical-align: top;\n",
              "    }\n",
              "\n",
              "    .dataframe thead th {\n",
              "        text-align: right;\n",
              "    }\n",
              "</style>\n",
              "<table border=\"1\" class=\"dataframe\">\n",
              "  <thead>\n",
              "    <tr style=\"text-align: right;\">\n",
              "      <th></th>\n",
              "      <th>bedrooms</th>\n",
              "      <th>bathrooms</th>\n",
              "      <th>sqft_living</th>\n",
              "      <th>sqft_lot</th>\n",
              "      <th>floors</th>\n",
              "      <th>waterfront</th>\n",
              "      <th>view</th>\n",
              "      <th>condition</th>\n",
              "      <th>grade</th>\n",
              "      <th>sqft_above</th>\n",
              "      <th>sqft_basement</th>\n",
              "      <th>sqft_living15</th>\n",
              "      <th>sqft_lot15</th>\n",
              "    </tr>\n",
              "  </thead>\n",
              "  <tbody>\n",
              "    <tr>\n",
              "      <th>bedrooms</th>\n",
              "      <td>1.639462</td>\n",
              "      <td>-0.368569</td>\n",
              "      <td>-1.418621e+00</td>\n",
              "      <td>0.041276</td>\n",
              "      <td>0.075716</td>\n",
              "      <td>0.065283</td>\n",
              "      <td>0.115937</td>\n",
              "      <td>-0.082505</td>\n",
              "      <td>0.350335</td>\n",
              "      <td>3.690496e-01</td>\n",
              "      <td>2.038347e-01</td>\n",
              "      <td>-0.060425</td>\n",
              "      <td>0.088076</td>\n",
              "    </tr>\n",
              "    <tr>\n",
              "      <th>bathrooms</th>\n",
              "      <td>-0.368569</td>\n",
              "      <td>2.869625</td>\n",
              "      <td>1.478676e+00</td>\n",
              "      <td>-0.012117</td>\n",
              "      <td>-0.844668</td>\n",
              "      <td>0.001139</td>\n",
              "      <td>0.051617</td>\n",
              "      <td>0.071609</td>\n",
              "      <td>-0.493781</td>\n",
              "      <td>-2.401538e+00</td>\n",
              "      <td>-1.641226e+00</td>\n",
              "      <td>0.015278</td>\n",
              "      <td>0.024853</td>\n",
              "    </tr>\n",
              "    <tr>\n",
              "      <th>sqft_living</th>\n",
              "      <td>-1.399981</td>\n",
              "      <td>1.477841</td>\n",
              "      <td>-1.412454e+14</td>\n",
              "      <td>-0.470223</td>\n",
              "      <td>7.607916</td>\n",
              "      <td>-0.421784</td>\n",
              "      <td>0.305112</td>\n",
              "      <td>0.121534</td>\n",
              "      <td>-1.595324</td>\n",
              "      <td>1.290959e+14</td>\n",
              "      <td>6.885511e+13</td>\n",
              "      <td>-1.595823</td>\n",
              "      <td>1.543653</td>\n",
              "    </tr>\n",
              "    <tr>\n",
              "      <th>sqft_lot</th>\n",
              "      <td>0.041276</td>\n",
              "      <td>-0.012117</td>\n",
              "      <td>-4.711358e-01</td>\n",
              "      <td>2.069257</td>\n",
              "      <td>0.079899</td>\n",
              "      <td>0.031139</td>\n",
              "      <td>-0.057357</td>\n",
              "      <td>0.013237</td>\n",
              "      <td>0.002062</td>\n",
              "      <td>1.915514e-01</td>\n",
              "      <td>2.060568e-01</td>\n",
              "      <td>0.128761</td>\n",
              "      <td>-1.453779</td>\n",
              "    </tr>\n",
              "    <tr>\n",
              "      <th>floors</th>\n",
              "      <td>0.075716</td>\n",
              "      <td>-0.844668</td>\n",
              "      <td>7.602387e+00</td>\n",
              "      <td>0.079899</td>\n",
              "      <td>1.900374</td>\n",
              "      <td>-0.008161</td>\n",
              "      <td>-0.033727</td>\n",
              "      <td>0.206148</td>\n",
              "      <td>-0.371667</td>\n",
              "      <td>-7.324758e+00</td>\n",
              "      <td>-3.082991e+00</td>\n",
              "      <td>0.352608</td>\n",
              "      <td>0.089748</td>\n",
              "    </tr>\n",
              "    <tr>\n",
              "      <th>waterfront</th>\n",
              "      <td>0.065283</td>\n",
              "      <td>0.001139</td>\n",
              "      <td>-4.206897e-01</td>\n",
              "      <td>0.031139</td>\n",
              "      <td>-0.008161</td>\n",
              "      <td>1.197517</td>\n",
              "      <td>-0.489942</td>\n",
              "      <td>-0.003211</td>\n",
              "      <td>0.046646</td>\n",
              "      <td>2.547537e-01</td>\n",
              "      <td>1.880803e-01</td>\n",
              "      <td>0.068829</td>\n",
              "      <td>-0.020357</td>\n",
              "    </tr>\n",
              "    <tr>\n",
              "      <th>view</th>\n",
              "      <td>0.115937</td>\n",
              "      <td>0.051617</td>\n",
              "      <td>2.982610e-01</td>\n",
              "      <td>-0.057357</td>\n",
              "      <td>-0.033727</td>\n",
              "      <td>-0.489942</td>\n",
              "      <td>1.372846</td>\n",
              "      <td>-0.049681</td>\n",
              "      <td>-0.149820</td>\n",
              "      <td>-2.553532e-01</td>\n",
              "      <td>-4.553215e-01</td>\n",
              "      <td>-0.250060</td>\n",
              "      <td>0.014351</td>\n",
              "    </tr>\n",
              "    <tr>\n",
              "      <th>condition</th>\n",
              "      <td>-0.082505</td>\n",
              "      <td>0.071609</td>\n",
              "      <td>1.266833e-01</td>\n",
              "      <td>0.013237</td>\n",
              "      <td>0.206148</td>\n",
              "      <td>-0.003211</td>\n",
              "      <td>-0.049681</td>\n",
              "      <td>1.108214</td>\n",
              "      <td>0.089149</td>\n",
              "      <td>-1.580100e-01</td>\n",
              "      <td>-2.123350e-01</td>\n",
              "      <td>0.058386</td>\n",
              "      <td>-0.011098</td>\n",
              "    </tr>\n",
              "    <tr>\n",
              "      <th>grade</th>\n",
              "      <td>0.350335</td>\n",
              "      <td>-0.493781</td>\n",
              "      <td>-1.628058e+00</td>\n",
              "      <td>0.002062</td>\n",
              "      <td>-0.371667</td>\n",
              "      <td>0.046646</td>\n",
              "      <td>-0.149820</td>\n",
              "      <td>0.089149</td>\n",
              "      <td>3.187596</td>\n",
              "      <td>2.764105e-02</td>\n",
              "      <td>3.040516e-01</td>\n",
              "      <td>-0.846572</td>\n",
              "      <td>0.086788</td>\n",
              "    </tr>\n",
              "    <tr>\n",
              "      <th>sqft_above</th>\n",
              "      <td>0.364863</td>\n",
              "      <td>-2.382858</td>\n",
              "      <td>1.290959e+14</td>\n",
              "      <td>0.191872</td>\n",
              "      <td>-7.326190</td>\n",
              "      <td>0.255797</td>\n",
              "      <td>-0.263614</td>\n",
              "      <td>-0.154650</td>\n",
              "      <td>0.001363</td>\n",
              "      <td>-1.179915e+14</td>\n",
              "      <td>-6.293240e+13</td>\n",
              "      <td>-0.138912</td>\n",
              "      <td>-1.604942</td>\n",
              "    </tr>\n",
              "    <tr>\n",
              "      <th>sqft_basement</th>\n",
              "      <td>0.198767</td>\n",
              "      <td>-1.628089</td>\n",
              "      <td>6.885511e+13</td>\n",
              "      <td>0.206086</td>\n",
              "      <td>-3.083862</td>\n",
              "      <td>0.188645</td>\n",
              "      <td>-0.459320</td>\n",
              "      <td>-0.210469</td>\n",
              "      <td>0.289179</td>\n",
              "      <td>-6.293240e+13</td>\n",
              "      <td>-3.356588e+13</td>\n",
              "      <td>0.399555</td>\n",
              "      <td>-0.773564</td>\n",
              "    </tr>\n",
              "    <tr>\n",
              "      <th>sqft_living15</th>\n",
              "      <td>-0.060425</td>\n",
              "      <td>0.015278</td>\n",
              "      <td>-1.547888e+00</td>\n",
              "      <td>0.128761</td>\n",
              "      <td>0.352608</td>\n",
              "      <td>0.068829</td>\n",
              "      <td>-0.250060</td>\n",
              "      <td>0.058386</td>\n",
              "      <td>-0.846572</td>\n",
              "      <td>-1.827247e-01</td>\n",
              "      <td>3.761868e-01</td>\n",
              "      <td>2.851099</td>\n",
              "      <td>-0.169273</td>\n",
              "    </tr>\n",
              "    <tr>\n",
              "      <th>sqft_lot15</th>\n",
              "      <td>0.088076</td>\n",
              "      <td>0.024853</td>\n",
              "      <td>1.540577e+00</td>\n",
              "      <td>-1.453779</td>\n",
              "      <td>0.089748</td>\n",
              "      <td>-0.020357</td>\n",
              "      <td>0.014351</td>\n",
              "      <td>-0.011098</td>\n",
              "      <td>0.086788</td>\n",
              "      <td>-1.602131e+00</td>\n",
              "      <td>-7.720645e-01</td>\n",
              "      <td>-0.169273</td>\n",
              "      <td>2.093956</td>\n",
              "    </tr>\n",
              "  </tbody>\n",
              "</table>\n",
              "</div>"
            ],
            "text/plain": [
              "               bedrooms  bathrooms  ...  sqft_living15  sqft_lot15\n",
              "bedrooms       1.639462  -0.368569  ...      -0.060425    0.088076\n",
              "bathrooms     -0.368569   2.869625  ...       0.015278    0.024853\n",
              "sqft_living   -1.399981   1.477841  ...      -1.595823    1.543653\n",
              "sqft_lot       0.041276  -0.012117  ...       0.128761   -1.453779\n",
              "floors         0.075716  -0.844668  ...       0.352608    0.089748\n",
              "waterfront     0.065283   0.001139  ...       0.068829   -0.020357\n",
              "view           0.115937   0.051617  ...      -0.250060    0.014351\n",
              "condition     -0.082505   0.071609  ...       0.058386   -0.011098\n",
              "grade          0.350335  -0.493781  ...      -0.846572    0.086788\n",
              "sqft_above     0.364863  -2.382858  ...      -0.138912   -1.604942\n",
              "sqft_basement  0.198767  -1.628089  ...       0.399555   -0.773564\n",
              "sqft_living15 -0.060425   0.015278  ...       2.851099   -0.169273\n",
              "sqft_lot15     0.088076   0.024853  ...      -0.169273    2.093956\n",
              "\n",
              "[13 rows x 13 columns]"
            ]
          },
          "metadata": {
            "tags": []
          },
          "execution_count": 180
        }
      ]
    },
    {
      "cell_type": "markdown",
      "metadata": {
        "id": "OZ9lBBwruQnF"
      },
      "source": [
        "######Observation: Grade column had a high vif nearing 5 this shows highest correlation. We'll drop it a see if vif dropped also"
      ]
    },
    {
      "cell_type": "code",
      "metadata": {
        "id": "tix4rh8pxK-n",
        "colab": {
          "base_uri": "https://localhost:8080/",
          "height": 422
        },
        "outputId": "aaef7f0b-cc76-4a60-f7dc-181e91007277"
      },
      "source": [
        "\n",
        "revised = independent.drop(['grade'], axis=1)\n",
        "\n",
        "correlations = revised.corr()\n",
        "pd.DataFrame(np.linalg.inv(correlations.values), index = correlations.index, columns=correlations.columns)\n",
        "\n",
        "#sqft living 15 dropped more"
      ],
      "execution_count": null,
      "outputs": [
        {
          "output_type": "execute_result",
          "data": {
            "text/html": [
              "<div>\n",
              "<style scoped>\n",
              "    .dataframe tbody tr th:only-of-type {\n",
              "        vertical-align: middle;\n",
              "    }\n",
              "\n",
              "    .dataframe tbody tr th {\n",
              "        vertical-align: top;\n",
              "    }\n",
              "\n",
              "    .dataframe thead th {\n",
              "        text-align: right;\n",
              "    }\n",
              "</style>\n",
              "<table border=\"1\" class=\"dataframe\">\n",
              "  <thead>\n",
              "    <tr style=\"text-align: right;\">\n",
              "      <th></th>\n",
              "      <th>bedrooms</th>\n",
              "      <th>bathrooms</th>\n",
              "      <th>sqft_living</th>\n",
              "      <th>sqft_lot</th>\n",
              "      <th>floors</th>\n",
              "      <th>waterfront</th>\n",
              "      <th>view</th>\n",
              "      <th>condition</th>\n",
              "      <th>sqft_above</th>\n",
              "      <th>sqft_basement</th>\n",
              "      <th>sqft_living15</th>\n",
              "      <th>sqft_lot15</th>\n",
              "    </tr>\n",
              "  </thead>\n",
              "  <tbody>\n",
              "    <tr>\n",
              "      <th>bedrooms</th>\n",
              "      <td>1.600958</td>\n",
              "      <td>-0.314300</td>\n",
              "      <td>-1.223719e+00</td>\n",
              "      <td>0.041049</td>\n",
              "      <td>0.116565</td>\n",
              "      <td>0.060156</td>\n",
              "      <td>0.132403</td>\n",
              "      <td>-0.092303</td>\n",
              "      <td>3.740825e-01</td>\n",
              "      <td>1.720583e-01</td>\n",
              "      <td>0.032619</td>\n",
              "      <td>0.078538</td>\n",
              "    </tr>\n",
              "    <tr>\n",
              "      <th>bathrooms</th>\n",
              "      <td>-0.314300</td>\n",
              "      <td>2.793135</td>\n",
              "      <td>1.216500e+00</td>\n",
              "      <td>-0.011798</td>\n",
              "      <td>-0.902242</td>\n",
              "      <td>0.008365</td>\n",
              "      <td>0.028408</td>\n",
              "      <td>0.085419</td>\n",
              "      <td>-2.380564e+00</td>\n",
              "      <td>-1.578303e+00</td>\n",
              "      <td>-0.115862</td>\n",
              "      <td>0.038297</td>\n",
              "    </tr>\n",
              "    <tr>\n",
              "      <th>sqft_living</th>\n",
              "      <td>-1.224434</td>\n",
              "      <td>1.233186</td>\n",
              "      <td>-1.412454e+14</td>\n",
              "      <td>-0.473373</td>\n",
              "      <td>7.411894</td>\n",
              "      <td>-0.398732</td>\n",
              "      <td>0.231278</td>\n",
              "      <td>0.167990</td>\n",
              "      <td>1.290959e+14</td>\n",
              "      <td>6.885511e+13</td>\n",
              "      <td>-2.017068</td>\n",
              "      <td>1.591140</td>\n",
              "    </tr>\n",
              "    <tr>\n",
              "      <th>sqft_lot</th>\n",
              "      <td>0.041049</td>\n",
              "      <td>-0.011798</td>\n",
              "      <td>-4.700386e-01</td>\n",
              "      <td>2.069256</td>\n",
              "      <td>0.080139</td>\n",
              "      <td>0.031109</td>\n",
              "      <td>-0.057260</td>\n",
              "      <td>0.013179</td>\n",
              "      <td>1.926494e-01</td>\n",
              "      <td>2.058252e-01</td>\n",
              "      <td>0.129309</td>\n",
              "      <td>-1.453835</td>\n",
              "    </tr>\n",
              "    <tr>\n",
              "      <th>floors</th>\n",
              "      <td>0.116565</td>\n",
              "      <td>-0.902242</td>\n",
              "      <td>7.413365e+00</td>\n",
              "      <td>0.080139</td>\n",
              "      <td>1.857039</td>\n",
              "      <td>-0.002722</td>\n",
              "      <td>-0.051195</td>\n",
              "      <td>0.216543</td>\n",
              "      <td>-7.318726e+00</td>\n",
              "      <td>-3.047621e+00</td>\n",
              "      <td>0.253900</td>\n",
              "      <td>0.099867</td>\n",
              "    </tr>\n",
              "    <tr>\n",
              "      <th>waterfront</th>\n",
              "      <td>0.060156</td>\n",
              "      <td>0.008365</td>\n",
              "      <td>-3.967932e-01</td>\n",
              "      <td>0.031109</td>\n",
              "      <td>-0.002722</td>\n",
              "      <td>1.196835</td>\n",
              "      <td>-0.487750</td>\n",
              "      <td>-0.004515</td>\n",
              "      <td>2.539339e-01</td>\n",
              "      <td>1.833830e-01</td>\n",
              "      <td>0.081217</td>\n",
              "      <td>-0.021627</td>\n",
              "    </tr>\n",
              "    <tr>\n",
              "      <th>view</th>\n",
              "      <td>0.132403</td>\n",
              "      <td>0.028408</td>\n",
              "      <td>2.210800e-01</td>\n",
              "      <td>-0.057260</td>\n",
              "      <td>-0.051195</td>\n",
              "      <td>-0.487750</td>\n",
              "      <td>1.365804</td>\n",
              "      <td>-0.045491</td>\n",
              "      <td>-2.549581e-01</td>\n",
              "      <td>-4.405855e-01</td>\n",
              "      <td>-0.289850</td>\n",
              "      <td>0.018430</td>\n",
              "    </tr>\n",
              "    <tr>\n",
              "      <th>condition</th>\n",
              "      <td>-0.092303</td>\n",
              "      <td>0.085419</td>\n",
              "      <td>1.716625e-01</td>\n",
              "      <td>0.013179</td>\n",
              "      <td>0.216543</td>\n",
              "      <td>-0.004515</td>\n",
              "      <td>-0.045491</td>\n",
              "      <td>1.105721</td>\n",
              "      <td>-1.599088e-01</td>\n",
              "      <td>-2.205685e-01</td>\n",
              "      <td>0.082063</td>\n",
              "      <td>-0.013525</td>\n",
              "    </tr>\n",
              "    <tr>\n",
              "      <th>sqft_above</th>\n",
              "      <td>0.364520</td>\n",
              "      <td>-2.384906</td>\n",
              "      <td>1.290959e+14</td>\n",
              "      <td>0.195693</td>\n",
              "      <td>-7.316882</td>\n",
              "      <td>0.256045</td>\n",
              "      <td>-0.264600</td>\n",
              "      <td>-0.156369</td>\n",
              "      <td>-1.179915e+14</td>\n",
              "      <td>-6.293240e+13</td>\n",
              "      <td>-0.140787</td>\n",
              "      <td>-1.608683</td>\n",
              "    </tr>\n",
              "    <tr>\n",
              "      <th>sqft_basement</th>\n",
              "      <td>0.166882</td>\n",
              "      <td>-1.584498</td>\n",
              "      <td>6.885511e+13</td>\n",
              "      <td>0.207937</td>\n",
              "      <td>-3.045264</td>\n",
              "      <td>0.184555</td>\n",
              "      <td>-0.446288</td>\n",
              "      <td>-0.219453</td>\n",
              "      <td>-6.293240e+13</td>\n",
              "      <td>-3.356588e+13</td>\n",
              "      <td>0.475163</td>\n",
              "      <td>-0.783413</td>\n",
              "    </tr>\n",
              "    <tr>\n",
              "      <th>sqft_living15</th>\n",
              "      <td>0.032619</td>\n",
              "      <td>-0.115862</td>\n",
              "      <td>-1.983753e+00</td>\n",
              "      <td>0.129309</td>\n",
              "      <td>0.253900</td>\n",
              "      <td>0.081217</td>\n",
              "      <td>-0.289850</td>\n",
              "      <td>0.082063</td>\n",
              "      <td>-1.712364e-01</td>\n",
              "      <td>4.589222e-01</td>\n",
              "      <td>2.626263</td>\n",
              "      <td>-0.146224</td>\n",
              "    </tr>\n",
              "    <tr>\n",
              "      <th>sqft_lot15</th>\n",
              "      <td>0.078538</td>\n",
              "      <td>0.038297</td>\n",
              "      <td>1.585025e+00</td>\n",
              "      <td>-1.453835</td>\n",
              "      <td>0.099867</td>\n",
              "      <td>-0.021627</td>\n",
              "      <td>0.018430</td>\n",
              "      <td>-0.013525</td>\n",
              "      <td>-1.603094e+00</td>\n",
              "      <td>-7.804317e-01</td>\n",
              "      <td>-0.146224</td>\n",
              "      <td>2.091593</td>\n",
              "    </tr>\n",
              "  </tbody>\n",
              "</table>\n",
              "</div>"
            ],
            "text/plain": [
              "               bedrooms  bathrooms  ...  sqft_living15  sqft_lot15\n",
              "bedrooms       1.600958  -0.314300  ...       0.032619    0.078538\n",
              "bathrooms     -0.314300   2.793135  ...      -0.115862    0.038297\n",
              "sqft_living   -1.224434   1.233186  ...      -2.017068    1.591140\n",
              "sqft_lot       0.041049  -0.011798  ...       0.129309   -1.453835\n",
              "floors         0.116565  -0.902242  ...       0.253900    0.099867\n",
              "waterfront     0.060156   0.008365  ...       0.081217   -0.021627\n",
              "view           0.132403   0.028408  ...      -0.289850    0.018430\n",
              "condition     -0.092303   0.085419  ...       0.082063   -0.013525\n",
              "sqft_above     0.364520  -2.384906  ...      -0.140787   -1.608683\n",
              "sqft_basement  0.166882  -1.584498  ...       0.475163   -0.783413\n",
              "sqft_living15  0.032619  -0.115862  ...       2.626263   -0.146224\n",
              "sqft_lot15     0.078538   0.038297  ...      -0.146224    2.091593\n",
              "\n",
              "[12 rows x 12 columns]"
            ]
          },
          "metadata": {
            "tags": []
          },
          "execution_count": 181
        }
      ]
    },
    {
      "cell_type": "code",
      "metadata": {
        "id": "1cryGO96mcPV"
      },
      "source": [
        "#scatter\n",
        "#line chart\n",
        "#stacked bar chart\n",
        "#bargraph"
      ],
      "execution_count": null,
      "outputs": []
    },
    {
      "cell_type": "code",
      "metadata": {
        "colab": {
          "base_uri": "https://localhost:8080/"
        },
        "id": "6lwMi0SsJHbu",
        "outputId": "e21a4828-e1f2-4fdf-b1ad-7d857e719f20"
      },
      "source": [
        "house_prices.columns"
      ],
      "execution_count": null,
      "outputs": [
        {
          "output_type": "execute_result",
          "data": {
            "text/plain": [
              "Index(['price', 'bedrooms', 'bathrooms', 'sqft_living', 'sqft_lot', 'floors',\n",
              "       'waterfront', 'view', 'condition', 'grade', 'sqft_above',\n",
              "       'sqft_basement', 'sqft_living15', 'sqft_lot15'],\n",
              "      dtype='object')"
            ]
          },
          "metadata": {
            "tags": []
          },
          "execution_count": 183
        }
      ]
    },
    {
      "cell_type": "code",
      "metadata": {
        "colab": {
          "base_uri": "https://localhost:8080/",
          "height": 295
        },
        "id": "j9oALwmyNcAE",
        "outputId": "0f2c93cb-9809-4863-9483-612e42b7a579"
      },
      "source": [
        "##prices based on bedrooms\n",
        "\n",
        "plt.bar(house_prices.bedrooms, house_prices.price )\n",
        "plt.title('Prices of Houses by the number of bedrooms')\n",
        "plt.xlabel('Number of bedrooms')\n",
        "plt.ylabel('Prices')\n",
        "plt.show()"
      ],
      "execution_count": null,
      "outputs": [
        {
          "output_type": "display_data",
          "data": {
            "image/png": "[encoded data removed]",
            "text/plain": [
              "<Figure size 432x288 with 1 Axes>"
            ]
          },
          "metadata": {
            "tags": [],
            "needs_background": "light"
          }
        }
      ]
    },
    {
      "cell_type": "code",
      "metadata": {
        "id": "u_H8Pp9zXYFe"
      },
      "source": [
        "house_prices['bathrooms'] = house_prices['bathrooms'].apply(np.int64)"
      ],
      "execution_count": null,
      "outputs": []
    },
    {
      "cell_type": "code",
      "metadata": {
        "colab": {
          "base_uri": "https://localhost:8080/",
          "height": 295
        },
        "id": "Euq3Bj3HKeqM",
        "outputId": "1076d15b-873c-4c03-abc7-2e6c064720e7"
      },
      "source": [
        "##prices based on bathrooms\n",
        "\n",
        "plt.bar(house_prices.floors, house_prices.price )\n",
        "plt.title('Prices of Houses by the number of bathrooms')\n",
        "plt.xlabel('Number of bathrooms')\n",
        "plt.ylabel('Prices')\n",
        "plt.show()"
      ],
      "execution_count": null,
      "outputs": [
        {
          "output_type": "display_data",
          "data": {
            "image/png": "[encoded data removed]",
            "text/plain": [
              "<Figure size 432x288 with 1 Axes>"
            ]
          },
          "metadata": {
            "tags": [],
            "needs_background": "light"
          }
        }
      ]
    },
    {
      "cell_type": "code",
      "metadata": {
        "colab": {
          "base_uri": "https://localhost:8080/",
          "height": 225
        },
        "id": "4OohjhtIQleD",
        "outputId": "c9516d37-7083-4c9b-dc57-690eac97c96f"
      },
      "source": [
        "df = house_prices.groupby(['floors'])['price'].mean().reset_index()\n",
        "df.sort_values('floors')\n",
        "df"
      ],
      "execution_count": null,
      "outputs": [
        {
          "output_type": "execute_result",
          "data": {
            "text/html": [
              "<div>\n",
              "<style scoped>\n",
              "    .dataframe tbody tr th:only-of-type {\n",
              "        vertical-align: middle;\n",
              "    }\n",
              "\n",
              "    .dataframe tbody tr th {\n",
              "        vertical-align: top;\n",
              "    }\n",
              "\n",
              "    .dataframe thead th {\n",
              "        text-align: right;\n",
              "    }\n",
              "</style>\n",
              "<table border=\"1\" class=\"dataframe\">\n",
              "  <thead>\n",
              "    <tr style=\"text-align: right;\">\n",
              "      <th></th>\n",
              "      <th>floors</th>\n",
              "      <th>price</th>\n",
              "    </tr>\n",
              "  </thead>\n",
              "  <tbody>\n",
              "    <tr>\n",
              "      <th>0</th>\n",
              "      <td>1.0</td>\n",
              "      <td>442867.372138</td>\n",
              "    </tr>\n",
              "    <tr>\n",
              "      <th>1</th>\n",
              "      <td>1.5</td>\n",
              "      <td>557903.497029</td>\n",
              "    </tr>\n",
              "    <tr>\n",
              "      <th>2</th>\n",
              "      <td>2.0</td>\n",
              "      <td>644531.663320</td>\n",
              "    </tr>\n",
              "    <tr>\n",
              "      <th>3</th>\n",
              "      <td>2.5</td>\n",
              "      <td>957923.163121</td>\n",
              "    </tr>\n",
              "    <tr>\n",
              "      <th>4</th>\n",
              "      <td>3.0</td>\n",
              "      <td>574676.059900</td>\n",
              "    </tr>\n",
              "    <tr>\n",
              "      <th>5</th>\n",
              "      <td>3.5</td>\n",
              "      <td>511916.666667</td>\n",
              "    </tr>\n",
              "  </tbody>\n",
              "</table>\n",
              "</div>"
            ],
            "text/plain": [
              "   floors          price\n",
              "0     1.0  442867.372138\n",
              "1     1.5  557903.497029\n",
              "2     2.0  644531.663320\n",
              "3     2.5  957923.163121\n",
              "4     3.0  574676.059900\n",
              "5     3.5  511916.666667"
            ]
          },
          "metadata": {
            "tags": []
          },
          "execution_count": 187
        }
      ]
    },
    {
      "cell_type": "code",
      "metadata": {
        "id": "RPyrlKfXW6ke"
      },
      "source": [
        "#changing floors to int \n",
        "\n",
        "df['floors'] = df['floors'].apply(np.int64)"
      ],
      "execution_count": null,
      "outputs": []
    },
    {
      "cell_type": "code",
      "metadata": {
        "colab": {
          "base_uri": "https://localhost:8080/",
          "height": 295
        },
        "id": "HtfskNCYKeOc",
        "outputId": "9b68137f-a7c9-4651-ea80-b732797c3ea0"
      },
      "source": [
        "#checking for prices of houses by floor numbers\n",
        "\n",
        "plt.bar(df.floors, df.price )\n",
        "plt.title('Mean Prices of Houses by the number of Floors')\n",
        "plt.xlabel('Number of Floors')\n",
        "plt.ylabel('Prices')\n",
        "plt.show()"
      ],
      "execution_count": null,
      "outputs": [
        {
          "output_type": "display_data",
          "data": {
            "image/png": "[encoded data removed]",
            "text/plain": [
              "<Figure size 432x288 with 1 Axes>"
            ]
          },
          "metadata": {
            "tags": [],
            "needs_background": "light"
          }
        }
      ]
    },
    {
      "cell_type": "code",
      "metadata": {
        "colab": {
          "base_uri": "https://localhost:8080/"
        },
        "id": "-TuIMwiNXPFt",
        "outputId": "f2e6962b-807b-4ecd-ab9e-fc6f33b53ff0"
      },
      "source": [
        "house_prices.columns"
      ],
      "execution_count": null,
      "outputs": [
        {
          "output_type": "execute_result",
          "data": {
            "text/plain": [
              "Index(['price', 'bedrooms', 'bathrooms', 'sqft_living', 'sqft_lot', 'floors',\n",
              "       'waterfront', 'view', 'condition', 'grade', 'sqft_above',\n",
              "       'sqft_basement', 'sqft_living15', 'sqft_lot15'],\n",
              "      dtype='object')"
            ]
          },
          "metadata": {
            "tags": []
          },
          "execution_count": 190
        }
      ]
    },
    {
      "cell_type": "code",
      "metadata": {
        "id": "fM778L2rXo4D"
      },
      "source": [
        "#Plotting prices of houses by grade\n",
        "\n",
        "#grade = house_prices.groupby(['grade'])['price'].mean().reset_index()\n",
        "#grade.sort_values('grade')\n",
        "#grade"
      ],
      "execution_count": null,
      "outputs": []
    },
    {
      "cell_type": "code",
      "metadata": {
        "colab": {
          "base_uri": "https://localhost:8080/",
          "height": 195
        },
        "id": "U2kEquzLdgPC",
        "outputId": "cea18344-42b5-4a12-8f9c-b02eed185fc9"
      },
      "source": [
        "#Scatter of grade against price\n",
        "\n",
        "grade = house_prices[['grade','price']]\n",
        "grade.head()\n"
      ],
      "execution_count": null,
      "outputs": [
        {
          "output_type": "execute_result",
          "data": {
            "text/html": [
              "<div>\n",
              "<style scoped>\n",
              "    .dataframe tbody tr th:only-of-type {\n",
              "        vertical-align: middle;\n",
              "    }\n",
              "\n",
              "    .dataframe tbody tr th {\n",
              "        vertical-align: top;\n",
              "    }\n",
              "\n",
              "    .dataframe thead th {\n",
              "        text-align: right;\n",
              "    }\n",
              "</style>\n",
              "<table border=\"1\" class=\"dataframe\">\n",
              "  <thead>\n",
              "    <tr style=\"text-align: right;\">\n",
              "      <th></th>\n",
              "      <th>grade</th>\n",
              "      <th>price</th>\n",
              "    </tr>\n",
              "  </thead>\n",
              "  <tbody>\n",
              "    <tr>\n",
              "      <th>0</th>\n",
              "      <td>7</td>\n",
              "      <td>221900.0</td>\n",
              "    </tr>\n",
              "    <tr>\n",
              "      <th>1</th>\n",
              "      <td>7</td>\n",
              "      <td>538000.0</td>\n",
              "    </tr>\n",
              "    <tr>\n",
              "      <th>2</th>\n",
              "      <td>6</td>\n",
              "      <td>180000.0</td>\n",
              "    </tr>\n",
              "    <tr>\n",
              "      <th>3</th>\n",
              "      <td>7</td>\n",
              "      <td>604000.0</td>\n",
              "    </tr>\n",
              "    <tr>\n",
              "      <th>4</th>\n",
              "      <td>8</td>\n",
              "      <td>510000.0</td>\n",
              "    </tr>\n",
              "  </tbody>\n",
              "</table>\n",
              "</div>"
            ],
            "text/plain": [
              "   grade     price\n",
              "0      7  221900.0\n",
              "1      7  538000.0\n",
              "2      6  180000.0\n",
              "3      7  604000.0\n",
              "4      8  510000.0"
            ]
          },
          "metadata": {
            "tags": []
          },
          "execution_count": 192
        }
      ]
    },
    {
      "cell_type": "code",
      "metadata": {
        "colab": {
          "base_uri": "https://localhost:8080/",
          "height": 295
        },
        "id": "QRv1jHUcXokQ",
        "outputId": "b9441485-b162-4766-ecae-b76a01d5fa0f"
      },
      "source": [
        "#Scatter plot of grade of houses against prices\n",
        "\n",
        "plt.scatter(grade.price, grade.grade)\n",
        "plt.title('Prices of Houses by the grading')\n",
        "plt.xlabel('Grading')\n",
        "plt.ylabel('Prices')\n",
        "plt.show()"
      ],
      "execution_count": null,
      "outputs": [
        {
          "output_type": "display_data",
          "data": {
            "image/png": "[encoded data removed]",
            "text/plain": [
              "<Figure size 432x288 with 1 Axes>"
            ]
          },
          "metadata": {
            "tags": [],
            "needs_background": "light"
          }
        }
      ]
    },
    {
      "cell_type": "code",
      "metadata": {
        "colab": {
          "base_uri": "https://localhost:8080/"
        },
        "id": "H49Ja2lYd7Sq",
        "outputId": "73eae105-5460-4afb-e0a4-660c9db01f26"
      },
      "source": [
        "house_prices.columns"
      ],
      "execution_count": null,
      "outputs": [
        {
          "output_type": "execute_result",
          "data": {
            "text/plain": [
              "Index(['price', 'bedrooms', 'bathrooms', 'sqft_living', 'sqft_lot', 'floors',\n",
              "       'waterfront', 'view', 'condition', 'grade', 'sqft_above',\n",
              "       'sqft_basement', 'sqft_living15', 'sqft_lot15'],\n",
              "      dtype='object')"
            ]
          },
          "metadata": {
            "tags": []
          },
          "execution_count": 194
        }
      ]
    },
    {
      "cell_type": "code",
      "metadata": {
        "colab": {
          "base_uri": "https://localhost:8080/",
          "height": 296
        },
        "id": "8PmtZ5kgd71R",
        "outputId": "2259bdaf-3e57-4642-f305-20e0e994540a"
      },
      "source": [
        "#\n",
        "df1= house_prices[['price','sqft_living15']]\n",
        "\n",
        "plt.scatter(df1.price, df1.sqft_living15)\n",
        "plt.title('Prices of Houses by the grading')\n",
        "plt.xlabel('sqft_living15')\n",
        "plt.ylabel('Prices')\n",
        "plt.show()"
      ],
      "execution_count": null,
      "outputs": [
        {
          "output_type": "display_data",
          "data": {
            "image/png": "[encoded data removed]",
            "text/plain": [
              "<Figure size 432x288 with 1 Axes>"
            ]
          },
          "metadata": {
            "tags": [],
            "needs_background": "light"
          }
        }
      ]
    },
    {
      "cell_type": "markdown",
      "metadata": {
        "id": "Zu1ufnYZmc_b"
      },
      "source": [
        "####Regression"
      ]
    },
    {
      "cell_type": "markdown",
      "metadata": {
        "id": "2IIKncVq41AS"
      },
      "source": [
        "####1. Multiple Linear Regression"
      ]
    },
    {
      "cell_type": "code",
      "metadata": {
        "colab": {
          "base_uri": "https://localhost:8080/",
          "height": 156
        },
        "id": "lB4k_t0w1rfj",
        "outputId": "c08bfa0f-5d25-492b-edd1-4bff35b486b4"
      },
      "source": [
        "house_prices.head(3)"
      ],
      "execution_count": null,
      "outputs": [
        {
          "output_type": "execute_result",
          "data": {
            "text/html": [
              "<div>\n",
              "<style scoped>\n",
              "    .dataframe tbody tr th:only-of-type {\n",
              "        vertical-align: middle;\n",
              "    }\n",
              "\n",
              "    .dataframe tbody tr th {\n",
              "        vertical-align: top;\n",
              "    }\n",
              "\n",
              "    .dataframe thead th {\n",
              "        text-align: right;\n",
              "    }\n",
              "</style>\n",
              "<table border=\"1\" class=\"dataframe\">\n",
              "  <thead>\n",
              "    <tr style=\"text-align: right;\">\n",
              "      <th></th>\n",
              "      <th>price</th>\n",
              "      <th>bedrooms</th>\n",
              "      <th>bathrooms</th>\n",
              "      <th>sqft_living</th>\n",
              "      <th>sqft_lot</th>\n",
              "      <th>floors</th>\n",
              "      <th>waterfront</th>\n",
              "      <th>view</th>\n",
              "      <th>condition</th>\n",
              "      <th>grade</th>\n",
              "      <th>sqft_above</th>\n",
              "      <th>sqft_basement</th>\n",
              "      <th>sqft_living15</th>\n",
              "      <th>sqft_lot15</th>\n",
              "    </tr>\n",
              "  </thead>\n",
              "  <tbody>\n",
              "    <tr>\n",
              "      <th>0</th>\n",
              "      <td>221900.0</td>\n",
              "      <td>3.0</td>\n",
              "      <td>1</td>\n",
              "      <td>1180</td>\n",
              "      <td>5650</td>\n",
              "      <td>1.0</td>\n",
              "      <td>0</td>\n",
              "      <td>0</td>\n",
              "      <td>3</td>\n",
              "      <td>7</td>\n",
              "      <td>1180</td>\n",
              "      <td>0</td>\n",
              "      <td>1340</td>\n",
              "      <td>5650</td>\n",
              "    </tr>\n",
              "    <tr>\n",
              "      <th>1</th>\n",
              "      <td>538000.0</td>\n",
              "      <td>3.0</td>\n",
              "      <td>2</td>\n",
              "      <td>2570</td>\n",
              "      <td>7242</td>\n",
              "      <td>2.0</td>\n",
              "      <td>0</td>\n",
              "      <td>0</td>\n",
              "      <td>3</td>\n",
              "      <td>7</td>\n",
              "      <td>2170</td>\n",
              "      <td>400</td>\n",
              "      <td>1690</td>\n",
              "      <td>7639</td>\n",
              "    </tr>\n",
              "    <tr>\n",
              "      <th>2</th>\n",
              "      <td>180000.0</td>\n",
              "      <td>2.0</td>\n",
              "      <td>1</td>\n",
              "      <td>770</td>\n",
              "      <td>10000</td>\n",
              "      <td>1.0</td>\n",
              "      <td>0</td>\n",
              "      <td>0</td>\n",
              "      <td>3</td>\n",
              "      <td>6</td>\n",
              "      <td>770</td>\n",
              "      <td>0</td>\n",
              "      <td>2720</td>\n",
              "      <td>8062</td>\n",
              "    </tr>\n",
              "  </tbody>\n",
              "</table>\n",
              "</div>"
            ],
            "text/plain": [
              "      price  bedrooms  bathrooms  ...  sqft_basement  sqft_living15  sqft_lot15\n",
              "0  221900.0       3.0          1  ...              0           1340        5650\n",
              "1  538000.0       3.0          2  ...            400           1690        7639\n",
              "2  180000.0       2.0          1  ...              0           2720        8062\n",
              "\n",
              "[3 rows x 14 columns]"
            ]
          },
          "metadata": {
            "tags": []
          },
          "execution_count": 196
        }
      ]
    },
    {
      "cell_type": "code",
      "metadata": {
        "id": "jyFRmboomezq"
      },
      "source": [
        "#separating features from labels\n",
        "\n",
        "X = house_prices.drop(['price','grade','sqft_living15'],axis=1).values\n",
        "y = house_prices.iloc[:,0].values"
      ],
      "execution_count": null,
      "outputs": []
    },
    {
      "cell_type": "code",
      "metadata": {
        "id": "nZ01dpGG2Bsy"
      },
      "source": [
        "#Splitting to train and test\n",
        "\n",
        "X_train,lin1X_test,y_train,lin1y_test = train_test_split(X,y , test_size=0.2, random_state = 0)"
      ],
      "execution_count": null,
      "outputs": []
    },
    {
      "cell_type": "code",
      "metadata": {
        "colab": {
          "base_uri": "https://localhost:8080/"
        },
        "id": "Rc-Sx1pk3H36",
        "outputId": "8c322fc0-9306-43d5-990e-176493039dc4"
      },
      "source": [
        "#Training our model\n",
        "reg = LinearRegression()\n",
        "reg.fit(X_train, y_train)"
      ],
      "execution_count": null,
      "outputs": [
        {
          "output_type": "execute_result",
          "data": {
            "text/plain": [
              "LinearRegression(copy_X=True, fit_intercept=True, n_jobs=None, normalize=False)"
            ]
          },
          "metadata": {
            "tags": []
          },
          "execution_count": 199
        }
      ]
    },
    {
      "cell_type": "code",
      "metadata": {
        "colab": {
          "base_uri": "https://localhost:8080/"
        },
        "id": "SKc0kE0m3Hq4",
        "outputId": "a54973bf-e2ab-4074-8643-71e620a7dc34"
      },
      "source": [
        "#Making predictions\n",
        "\n",
        "lin1_pred = reg.predict(lin1X_test)\n",
        "lin1_pred"
      ],
      "execution_count": null,
      "outputs": [
        {
          "output_type": "execute_result",
          "data": {
            "text/plain": [
              "array([836420.87964834, 818448.80005826, 664655.21346126, ...,\n",
              "       215820.80459241, 334088.73263259, 803261.42665111])"
            ]
          },
          "metadata": {
            "tags": []
          },
          "execution_count": 200
        }
      ]
    },
    {
      "cell_type": "code",
      "metadata": {
        "colab": {
          "base_uri": "https://localhost:8080/"
        },
        "id": "r5diR7vq3oLI",
        "outputId": "e1656960-7941-4e1e-f4f8-68fa16d78c00"
      },
      "source": [
        "#checking for accuracy using mse\n",
        "mse = np.mean((y_pred - y_test)**2)\n",
        "mse"
      ],
      "execution_count": null,
      "outputs": [
        {
          "output_type": "execute_result",
          "data": {
            "text/plain": [
              "870532861361.8379"
            ]
          },
          "metadata": {
            "tags": []
          },
          "execution_count": 201
        }
      ]
    },
    {
      "cell_type": "code",
      "metadata": {
        "colab": {
          "base_uri": "https://localhost:8080/"
        },
        "id": "rd98HZ3c3plT",
        "outputId": "a503d5d4-4685-417f-9358-c0e6bf1bc1f5"
      },
      "source": [
        "#checking using r square\n",
        "\n",
        "reg.score(X_test, y_test)"
      ],
      "execution_count": null,
      "outputs": [
        {
          "output_type": "execute_result",
          "data": {
            "text/plain": [
              "-5.807756889174387"
            ]
          },
          "metadata": {
            "tags": []
          },
          "execution_count": 202
        }
      ]
    },
    {
      "cell_type": "markdown",
      "metadata": {
        "id": "zfN5j5LkYyLI"
      },
      "source": [
        "######An R2 of 58.8% is acceptable. Being above half, it shows that X influences 59% of our y"
      ]
    },
    {
      "cell_type": "code",
      "metadata": {
        "colab": {
          "base_uri": "https://localhost:8080/",
          "height": 304
        },
        "id": "upHwit8B3nfb",
        "outputId": "b5939648-1796-4cf2-d1b7-61bd4da837de"
      },
      "source": [
        "#checking for mean \n",
        "house_prices.describe()"
      ],
      "execution_count": null,
      "outputs": [
        {
          "output_type": "execute_result",
          "data": {
            "text/html": [
              "<div>\n",
              "<style scoped>\n",
              "    .dataframe tbody tr th:only-of-type {\n",
              "        vertical-align: middle;\n",
              "    }\n",
              "\n",
              "    .dataframe tbody tr th {\n",
              "        vertical-align: top;\n",
              "    }\n",
              "\n",
              "    .dataframe thead th {\n",
              "        text-align: right;\n",
              "    }\n",
              "</style>\n",
              "<table border=\"1\" class=\"dataframe\">\n",
              "  <thead>\n",
              "    <tr style=\"text-align: right;\">\n",
              "      <th></th>\n",
              "      <th>price</th>\n",
              "      <th>bedrooms</th>\n",
              "      <th>bathrooms</th>\n",
              "      <th>sqft_living</th>\n",
              "      <th>sqft_lot</th>\n",
              "      <th>floors</th>\n",
              "      <th>waterfront</th>\n",
              "      <th>view</th>\n",
              "      <th>condition</th>\n",
              "      <th>grade</th>\n",
              "      <th>sqft_above</th>\n",
              "      <th>sqft_basement</th>\n",
              "      <th>sqft_living15</th>\n",
              "      <th>sqft_lot15</th>\n",
              "    </tr>\n",
              "  </thead>\n",
              "  <tbody>\n",
              "    <tr>\n",
              "      <th>count</th>\n",
              "      <td>2.106000e+04</td>\n",
              "      <td>21060.000000</td>\n",
              "      <td>21060.000000</td>\n",
              "      <td>21060.000000</td>\n",
              "      <td>2.106000e+04</td>\n",
              "      <td>21060.000000</td>\n",
              "      <td>21060.000000</td>\n",
              "      <td>21060.000000</td>\n",
              "      <td>21060.000000</td>\n",
              "      <td>21060.000000</td>\n",
              "      <td>21060.000000</td>\n",
              "      <td>21060.000000</td>\n",
              "      <td>21060.000000</td>\n",
              "      <td>21060.000000</td>\n",
              "    </tr>\n",
              "    <tr>\n",
              "      <th>mean</th>\n",
              "      <td>5.374548e+05</td>\n",
              "      <td>3.347673</td>\n",
              "      <td>1.741263</td>\n",
              "      <td>2070.700950</td>\n",
              "      <td>1.504725e+04</td>\n",
              "      <td>1.494824</td>\n",
              "      <td>0.007312</td>\n",
              "      <td>0.229630</td>\n",
              "      <td>3.410304</td>\n",
              "      <td>7.664767</td>\n",
              "      <td>1785.010684</td>\n",
              "      <td>285.690266</td>\n",
              "      <td>1987.026543</td>\n",
              "      <td>12724.924169</td>\n",
              "    </tr>\n",
              "    <tr>\n",
              "      <th>std</th>\n",
              "      <td>3.555683e+05</td>\n",
              "      <td>0.800492</td>\n",
              "      <td>0.709776</td>\n",
              "      <td>889.455855</td>\n",
              "      <td>4.141375e+04</td>\n",
              "      <td>0.539610</td>\n",
              "      <td>0.085202</td>\n",
              "      <td>0.757491</td>\n",
              "      <td>0.649055</td>\n",
              "      <td>1.159514</td>\n",
              "      <td>812.947458</td>\n",
              "      <td>433.596929</td>\n",
              "      <td>682.185515</td>\n",
              "      <td>27086.528041</td>\n",
              "    </tr>\n",
              "    <tr>\n",
              "      <th>min</th>\n",
              "      <td>7.800000e+04</td>\n",
              "      <td>2.000000</td>\n",
              "      <td>0.000000</td>\n",
              "      <td>440.000000</td>\n",
              "      <td>5.200000e+02</td>\n",
              "      <td>1.000000</td>\n",
              "      <td>0.000000</td>\n",
              "      <td>0.000000</td>\n",
              "      <td>1.000000</td>\n",
              "      <td>4.000000</td>\n",
              "      <td>440.000000</td>\n",
              "      <td>0.000000</td>\n",
              "      <td>399.000000</td>\n",
              "      <td>651.000000</td>\n",
              "    </tr>\n",
              "    <tr>\n",
              "      <th>25%</th>\n",
              "      <td>3.225000e+05</td>\n",
              "      <td>3.000000</td>\n",
              "      <td>1.000000</td>\n",
              "      <td>1430.000000</td>\n",
              "      <td>5.047750e+03</td>\n",
              "      <td>1.000000</td>\n",
              "      <td>0.000000</td>\n",
              "      <td>0.000000</td>\n",
              "      <td>3.000000</td>\n",
              "      <td>7.000000</td>\n",
              "      <td>1200.000000</td>\n",
              "      <td>0.000000</td>\n",
              "      <td>1490.000000</td>\n",
              "      <td>5100.000000</td>\n",
              "    </tr>\n",
              "    <tr>\n",
              "      <th>50%</th>\n",
              "      <td>4.500000e+05</td>\n",
              "      <td>3.000000</td>\n",
              "      <td>2.000000</td>\n",
              "      <td>1910.000000</td>\n",
              "      <td>7.620000e+03</td>\n",
              "      <td>1.500000</td>\n",
              "      <td>0.000000</td>\n",
              "      <td>0.000000</td>\n",
              "      <td>3.000000</td>\n",
              "      <td>7.000000</td>\n",
              "      <td>1560.000000</td>\n",
              "      <td>0.000000</td>\n",
              "      <td>1840.000000</td>\n",
              "      <td>7626.000000</td>\n",
              "    </tr>\n",
              "    <tr>\n",
              "      <th>75%</th>\n",
              "      <td>6.400000e+05</td>\n",
              "      <td>4.000000</td>\n",
              "      <td>2.000000</td>\n",
              "      <td>2530.000000</td>\n",
              "      <td>1.063750e+04</td>\n",
              "      <td>2.000000</td>\n",
              "      <td>0.000000</td>\n",
              "      <td>0.000000</td>\n",
              "      <td>4.000000</td>\n",
              "      <td>8.000000</td>\n",
              "      <td>2200.000000</td>\n",
              "      <td>550.000000</td>\n",
              "      <td>2360.000000</td>\n",
              "      <td>10080.000000</td>\n",
              "    </tr>\n",
              "    <tr>\n",
              "      <th>max</th>\n",
              "      <td>7.060000e+06</td>\n",
              "      <td>5.000000</td>\n",
              "      <td>6.000000</td>\n",
              "      <td>10040.000000</td>\n",
              "      <td>1.651359e+06</td>\n",
              "      <td>3.500000</td>\n",
              "      <td>1.000000</td>\n",
              "      <td>4.000000</td>\n",
              "      <td>5.000000</td>\n",
              "      <td>13.000000</td>\n",
              "      <td>8020.000000</td>\n",
              "      <td>4820.000000</td>\n",
              "      <td>6210.000000</td>\n",
              "      <td>871200.000000</td>\n",
              "    </tr>\n",
              "  </tbody>\n",
              "</table>\n",
              "</div>"
            ],
            "text/plain": [
              "              price      bedrooms  ...  sqft_living15     sqft_lot15\n",
              "count  2.106000e+04  21060.000000  ...   21060.000000   21060.000000\n",
              "mean   5.374548e+05      3.347673  ...    1987.026543   12724.924169\n",
              "std    3.555683e+05      0.800492  ...     682.185515   27086.528041\n",
              "min    7.800000e+04      2.000000  ...     399.000000     651.000000\n",
              "25%    3.225000e+05      3.000000  ...    1490.000000    5100.000000\n",
              "50%    4.500000e+05      3.000000  ...    1840.000000    7626.000000\n",
              "75%    6.400000e+05      4.000000  ...    2360.000000   10080.000000\n",
              "max    7.060000e+06      5.000000  ...    6210.000000  871200.000000\n",
              "\n",
              "[8 rows x 14 columns]"
            ]
          },
          "metadata": {
            "tags": []
          },
          "execution_count": 203
        }
      ]
    },
    {
      "cell_type": "markdown",
      "metadata": {
        "id": "YixXcdfI5EOZ"
      },
      "source": [
        "####2. Quantile Regression"
      ]
    },
    {
      "cell_type": "code",
      "metadata": {
        "colab": {
          "base_uri": "https://localhost:8080/"
        },
        "id": "UJrhZTL4M-iy",
        "outputId": "ebdc72da-75f0-4c46-ca44-38e77941081f"
      },
      "source": [
        "house_prices.columns"
      ],
      "execution_count": null,
      "outputs": [
        {
          "output_type": "execute_result",
          "data": {
            "text/plain": [
              "Index(['price', 'bedrooms', 'bathrooms', 'sqft_living', 'sqft_lot', 'floors',\n",
              "       'waterfront', 'view', 'condition', 'grade', 'sqft_above',\n",
              "       'sqft_basement', 'sqft_living15', 'sqft_lot15'],\n",
              "      dtype='object')"
            ]
          },
          "metadata": {
            "tags": []
          },
          "execution_count": 204
        }
      ]
    },
    {
      "cell_type": "code",
      "metadata": {
        "id": "ChffQ6yO5H-Y"
      },
      "source": [
        "#separating features from labels\n",
        "\n",
        "X = house_prices[['bedrooms','bathrooms','sqft_living','sqft_lot','floors','waterfront','grade','sqft_living15']]\n",
        "y = house_prices.iloc[:,0]"
      ],
      "execution_count": null,
      "outputs": []
    },
    {
      "cell_type": "code",
      "metadata": {
        "colab": {
          "base_uri": "https://localhost:8080/"
        },
        "id": "VXO1sNpv5Ie3",
        "outputId": "1fd327de-3f95-475b-80a7-5307b90e43ca"
      },
      "source": [
        "#finding the regression coefficients for the median\n",
        "quantiles = [0.25,0.5,0.75]\n",
        "models = []\n",
        "params = []\n",
        "\n",
        "for qt in quantiles:\n",
        "\tmod = smf.quantreg(f\"y ~ X\", house_prices)\n",
        "\tres = mod.fit(q = qt )\n",
        "\tmodels.append(res);\n",
        "\tprint(res.summary())"
      ],
      "execution_count": null,
      "outputs": [
        {
          "output_type": "stream",
          "text": [
            "                         QuantReg Regression Results                          \n",
            "==============================================================================\n",
            "Dep. Variable:                      y   Pseudo R-squared:               0.2579\n",
            "Model:                       QuantReg   Bandwidth:                   2.461e+04\n",
            "Method:                 Least Squares   Sparsity:                    4.093e+05\n",
            "Date:                Mon, 23 Nov 2020   No. Observations:                21060\n",
            "Time:                        09:32:46   Df Residuals:                    21051\n",
            "                                        Df Model:                            8\n",
            "==============================================================================\n",
            "                 coef    std err          t      P>|t|      [0.025      0.975]\n",
            "------------------------------------------------------------------------------\n",
            "Intercept  -3.671e+05   1.03e+04    -35.510      0.000   -3.87e+05   -3.47e+05\n",
            "X[0]       -2.874e+04   1814.107    -15.841      0.000   -3.23e+04   -2.52e+04\n",
            "X[1]       -1159.5473   2448.933     -0.473      0.636   -5959.644    3640.550\n",
            "X[2]          96.2462      2.850     33.769      0.000      90.660     101.833\n",
            "X[3]           0.0918      0.029      3.124      0.002       0.034       0.149\n",
            "X[4]       -1890.8938   2603.171     -0.726      0.468   -6993.308    3211.521\n",
            "X[5]        4.182e+05   1.46e+04     28.556      0.000     3.9e+05    4.47e+05\n",
            "X[6]        7.711e+04   1754.048     43.963      0.000    7.37e+04    8.06e+04\n",
            "X[7]          34.5097      2.681     12.870      0.000      29.254      39.765\n",
            "==============================================================================\n",
            "\n",
            "The condition number is large, 5.23e+05. This might indicate that there are\n",
            "strong multicollinearity or other numerical problems.\n",
            "                         QuantReg Regression Results                          \n",
            "==============================================================================\n",
            "Dep. Variable:                      y   Pseudo R-squared:               0.3140\n",
            "Model:                       QuantReg   Bandwidth:                   2.808e+04\n",
            "Method:                 Least Squares   Sparsity:                    3.801e+05\n",
            "Date:                Mon, 23 Nov 2020   No. Observations:                21060\n",
            "Time:                        09:32:49   Df Residuals:                    21051\n",
            "                                        Df Model:                            8\n",
            "==============================================================================\n",
            "                 coef    std err          t      P>|t|      [0.025      0.975]\n",
            "------------------------------------------------------------------------------\n",
            "Intercept  -3.518e+05   1.21e+04    -29.046      0.000   -3.76e+05   -3.28e+05\n",
            "X[0]       -3.667e+04   2064.548    -17.760      0.000   -4.07e+04   -3.26e+04\n",
            "X[1]        6865.9329   2738.485      2.507      0.012    1498.291    1.22e+04\n",
            "X[2]         133.8754      3.159     42.379      0.000     127.684     140.067\n",
            "X[3]          -0.1302      0.032     -4.026      0.000      -0.194      -0.067\n",
            "X[4]       -2.942e+04   2884.623    -10.200      0.000   -3.51e+04   -2.38e+04\n",
            "X[5]        2.957e+05   1.55e+04     19.048      0.000    2.65e+05    3.26e+05\n",
            "X[6]        8.995e+04   1985.158     45.312      0.000    8.61e+04    9.38e+04\n",
            "X[7]          21.6813      3.148      6.887      0.000      15.511      27.852\n",
            "==============================================================================\n",
            "\n",
            "The condition number is large, 5.23e+05. This might indicate that there are\n",
            "strong multicollinearity or other numerical problems.\n",
            "                         QuantReg Regression Results                          \n",
            "==============================================================================\n",
            "Dep. Variable:                      y   Pseudo R-squared:               0.3755\n",
            "Model:                       QuantReg   Bandwidth:                   2.558e+04\n",
            "Method:                 Least Squares   Sparsity:                    5.714e+05\n",
            "Date:                Mon, 23 Nov 2020   No. Observations:                21060\n",
            "Time:                        09:32:52   Df Residuals:                    21051\n",
            "                                        Df Model:                            8\n",
            "==============================================================================\n",
            "                 coef    std err          t      P>|t|      [0.025      0.975]\n",
            "------------------------------------------------------------------------------\n",
            "Intercept  -3.353e+05    1.7e+04    -19.724      0.000   -3.69e+05   -3.02e+05\n",
            "X[0]       -4.197e+04   2876.510    -14.589      0.000   -4.76e+04   -3.63e+04\n",
            "X[1]         593.3599   3758.080      0.158      0.875   -6772.765    7959.485\n",
            "X[2]         186.4177      4.466     41.737      0.000     177.663     195.172\n",
            "X[3]          -0.3068      0.054     -5.659      0.000      -0.413      -0.201\n",
            "X[4]       -3.486e+04   3859.315     -9.032      0.000   -4.24e+04   -2.73e+04\n",
            "X[5]        1.076e+06   2.01e+04     53.623      0.000    1.04e+06    1.11e+06\n",
            "X[6]        9.513e+04   2725.687     34.903      0.000    8.98e+04       1e+05\n",
            "X[7]          20.5903      4.601      4.475      0.000      11.572      29.609\n",
            "==============================================================================\n",
            "\n",
            "The condition number is large, 5.23e+05. This might indicate that there are\n",
            "strong multicollinearity or other numerical problems.\n"
          ],
          "name": "stdout"
        }
      ]
    },
    {
      "cell_type": "markdown",
      "metadata": {
        "id": "Pbo9hNsh8NU-"
      },
      "source": [
        "####Ridge Regression"
      ]
    },
    {
      "cell_type": "code",
      "metadata": {
        "id": "wewZB8NM8R0K"
      },
      "source": [
        "from sklearn.linear_model import Ridge\n",
        "from sklearn.model_selection import GridSearchCV\n",
        "from sklearn.metrics import mean_squared_error"
      ],
      "execution_count": null,
      "outputs": []
    },
    {
      "cell_type": "code",
      "metadata": {
        "id": "35Q3klCK8SKT"
      },
      "source": [
        "#separating dependent from independent variables\n",
        "\n",
        "X = house_prices.drop(['price','grade','sqft_living15'],axis=1)\n",
        "y = house_prices.iloc[:,0]"
      ],
      "execution_count": null,
      "outputs": []
    },
    {
      "cell_type": "code",
      "metadata": {
        "id": "pv_auN9j8STl"
      },
      "source": [
        "#fittingour ridge model\n",
        "\n",
        "ridge = Ridge(normalize=True)\n",
        "search = GridSearchCV(estimator=ridge,param_grid={'alpha':np.logspace(-10,2,5)},scoring='neg_mean_squared_error',n_jobs=1,refit=True,cv=10)"
      ],
      "execution_count": null,
      "outputs": []
    },
    {
      "cell_type": "code",
      "metadata": {
        "colab": {
          "base_uri": "https://localhost:8080/"
        },
        "id": "X53a1-eL8Soa",
        "outputId": "6b8115b8-c2e1-4555-af09-bb452ecfba60"
      },
      "source": [
        "#best params\n",
        "search.fit(X,y)\n",
        "search.best_params_"
      ],
      "execution_count": null,
      "outputs": [
        {
          "output_type": "execute_result",
          "data": {
            "text/plain": [
              "{'alpha': 0.0001}"
            ]
          },
          "metadata": {
            "tags": []
          },
          "execution_count": 210
        }
      ]
    },
    {
      "cell_type": "code",
      "metadata": {
        "colab": {
          "base_uri": "https://localhost:8080/"
        },
        "id": "XsiqKarr_E5Q",
        "outputId": "12b52752-a845-4dd4-c329-d602892717ee"
      },
      "source": [
        "#\n",
        "{'alpha': 0.0001}\n",
        "abs(search.best_score_) "
      ],
      "execution_count": null,
      "outputs": [
        {
          "output_type": "execute_result",
          "data": {
            "text/plain": [
              "54954473769.945435"
            ]
          },
          "metadata": {
            "tags": []
          },
          "execution_count": 211
        }
      ]
    },
    {
      "cell_type": "code",
      "metadata": {
        "colab": {
          "base_uri": "https://localhost:8080/"
        },
        "id": "RseHXO4UCdIQ",
        "outputId": "e1ace26b-772e-4303-adfb-aa12930ef581"
      },
      "source": [
        "#fit the model with the ridge info and find the mean squared error\n",
        "ridge = Ridge(normalize = True, alpha=0.0001)\n",
        "ridge.fit(X, y)\n",
        "model = (mean_squared_error(y_test, y_pred))\n",
        "model"
      ],
      "execution_count": null,
      "outputs": [
        {
          "output_type": "execute_result",
          "data": {
            "text/plain": [
              "870532861361.8381"
            ]
          },
          "metadata": {
            "tags": []
          },
          "execution_count": 212
        }
      ]
    },
    {
      "cell_type": "code",
      "metadata": {
        "colab": {
          "base_uri": "https://localhost:8080/"
        },
        "id": "6dHtsCERIS1s",
        "outputId": "f0dfb0e0-bcf9-412f-846b-1d2978981187"
      },
      "source": [
        "reg.score(X_test, y_test)"
      ],
      "execution_count": null,
      "outputs": [
        {
          "output_type": "execute_result",
          "data": {
            "text/plain": [
              "-5.807756889174387"
            ]
          },
          "metadata": {
            "tags": []
          },
          "execution_count": 213
        }
      ]
    },
    {
      "cell_type": "code",
      "metadata": {
        "colab": {
          "base_uri": "https://localhost:8080/"
        },
        "id": "GcPNou7jDPzL",
        "outputId": "80592e37-a3e4-434e-e874-93e781b744a2"
      },
      "source": [
        "#Checking coefficients\n",
        "coef_dict_baseline = {}\n",
        "for coef, feat in zip(reg.coef_,house_prices.columns):\n",
        "    coef_dict_baseline[feat] = coef\n",
        "coef_dict_baseline"
      ],
      "execution_count": null,
      "outputs": [
        {
          "output_type": "execute_result",
          "data": {
            "text/plain": [
              "{'bathrooms': 178.67827089702587,\n",
              " 'bedrooms': 35410.786735998205,\n",
              " 'condition': 96.28866513566936,\n",
              " 'floors': 553005.6521455552,\n",
              " 'grade': 82.38960593798674,\n",
              " 'price': -58205.62442104741,\n",
              " 'sqft_above': -0.6496922364531201,\n",
              " 'sqft_living': -0.09747206667452701,\n",
              " 'sqft_lot': 7450.579379976891,\n",
              " 'view': 46810.73568695389,\n",
              " 'waterfront': 72132.95670286786}"
            ]
          },
          "metadata": {
            "tags": []
          },
          "execution_count": 214
        }
      ]
    },
    {
      "cell_type": "code",
      "metadata": {
        "colab": {
          "base_uri": "https://localhost:8080/"
        },
        "id": "S7yRaQjz8SOJ",
        "outputId": "58b48be8-5194-46f1-8caa-1c72dce5b300"
      },
      "source": [
        "model1_mse = (mean_squared_error(y_test,y_pred))\n",
        "model1_mse"
      ],
      "execution_count": null,
      "outputs": [
        {
          "output_type": "execute_result",
          "data": {
            "text/plain": [
              "870532861361.8381"
            ]
          },
          "metadata": {
            "tags": []
          },
          "execution_count": 215
        }
      ]
    },
    {
      "cell_type": "markdown",
      "metadata": {
        "id": "ulaHGoeUDs90"
      },
      "source": [
        "####Lasso Regression"
      ]
    },
    {
      "cell_type": "code",
      "metadata": {
        "id": "URnPn0Sp8R8F"
      },
      "source": [
        "import warnings\n",
        "warnings.filterwarnings(\"ignore\")"
      ],
      "execution_count": null,
      "outputs": []
    },
    {
      "cell_type": "code",
      "metadata": {
        "id": "A6k8FDXx8Rw2"
      },
      "source": [
        "#X and y\n",
        "X = house_prices.drop(['price','grade','sqft_living15'],axis=1)\n",
        "y = house_prices.iloc[:,0]"
      ],
      "execution_count": null,
      "outputs": []
    },
    {
      "cell_type": "code",
      "metadata": {
        "id": "UtDuXkUcFgd_"
      },
      "source": [
        "#Standadizing features\n",
        "scaler = StandardScaler()\n",
        "X = scaler.fit_transform(X)"
      ],
      "execution_count": null,
      "outputs": []
    },
    {
      "cell_type": "code",
      "metadata": {
        "id": "xvuGj0X8EM7C"
      },
      "source": [
        "\n",
        "#splitting train and test\n",
        "X_train, X_test, y_train, y_test = train_test_split(X, y, test_size=0.2, random_state=25)\n"
      ],
      "execution_count": null,
      "outputs": []
    },
    {
      "cell_type": "code",
      "metadata": {
        "colab": {
          "base_uri": "https://localhost:8080/"
        },
        "id": "KhIcia6HEUA6",
        "outputId": "0c62df83-1e0c-4eda-d74c-1e5e34704ae5"
      },
      "source": [
        "parameters = {'alpha': np.concatenate((np.arange(0.1,2,0.1), np.arange(2, 5, 0.5), np.arange(5, 25, 1)))}\n",
        "\n",
        "linear = linear_model.LinearRegression()\n",
        "lasso = linear_model.Lasso() \n",
        "gridlasso = GridSearchCV(lasso, parameters, scoring ='r2') \n",
        "\n",
        "# Fitting models and print the best parameters, R-squared scores, MSE, and coefficients\n",
        "gridlasso.fit(X_train, y_train) \n",
        "linear.fit(X_train, y_train) \n",
        "print(\"lasso best parameters:\", gridlasso.best_params_) \n",
        "print(\"lasso score:\", gridlasso.score(X_test, y_test))\n",
        "print(\"linear score:\", linear.score(X_test, y_test)) \n",
        "print(\"lasso MSE:\", mean_squared_error(y_test, gridlasso.predict(X_test)))\n",
        "print(\"linear MSE:\", mean_squared_error(y_test, linear.predict(X_test))) \n",
        "print(\"lasso best estimator coef:\", gridlasso.best_estimator_.coef_)\n",
        "print(\"linear coef:\", linear.coef_)"
      ],
      "execution_count": null,
      "outputs": [
        {
          "output_type": "stream",
          "text": [
            "lasso best parameters: {'alpha': 24.0}\n",
            "lasso score: 0.5641660680278977\n",
            "linear score: 0.5641692665343185\n",
            "lasso MSE: 58295281171.07519\n",
            "linear MSE: 58294853352.54743\n",
            "lasso best estimator coef: [-45363.49903763  23029.62152862 234517.16720876   -627.40658601\n",
            "   5352.65970377  48792.58779601  53743.99592534  30798.65808464\n",
            "   8544.17668032   -914.96746303 -20804.41036903]\n",
            "linear coef: [-45413.58103511  23068.72391053 124949.27003916   -648.25796722\n",
            "   5345.15604037  48806.89075564  53759.12189441  30837.68401072\n",
            " 108723.7859458   52468.39371358 -20822.4148314 ]\n"
          ],
          "name": "stdout"
        }
      ]
    },
    {
      "cell_type": "markdown",
      "metadata": {
        "id": "XBVgP24TaYJN"
      },
      "source": [
        "######None of the coefficients were shrunk to zero.Chances are that all the variables were important for the study."
      ]
    },
    {
      "cell_type": "code",
      "metadata": {
        "colab": {
          "base_uri": "https://localhost:8080/"
        },
        "id": "SYh8Jzy60O0H",
        "outputId": "6a53eed9-e367-478d-8c4a-f5b3e6b774dd"
      },
      "source": [
        "# calculating mse\n",
        "\n",
        "mse = np.mean((y_pred - y_test)**2)\n",
        "mse"
      ],
      "execution_count": null,
      "outputs": [
        {
          "output_type": "execute_result",
          "data": {
            "text/plain": [
              "750538031243.1787"
            ]
          },
          "metadata": {
            "tags": []
          },
          "execution_count": 221
        }
      ]
    },
    {
      "cell_type": "code",
      "metadata": {
        "colab": {
          "base_uri": "https://localhost:8080/"
        },
        "id": "tCyhbmiA0SvY",
        "outputId": "77199e1d-8bae-44ee-c1dd-b6e9b4ddfb27"
      },
      "source": [
        "#R square\n",
        "gridlasso.score(X_test,y_test)"
      ],
      "execution_count": null,
      "outputs": [
        {
          "output_type": "execute_result",
          "data": {
            "text/plain": [
              "0.5641660680278977"
            ]
          },
          "metadata": {
            "tags": []
          },
          "execution_count": 222
        }
      ]
    },
    {
      "cell_type": "markdown",
      "metadata": {
        "id": "kJZt4XFYcjqz"
      },
      "source": [
        "###Elastic Net Regression"
      ]
    },
    {
      "cell_type": "code",
      "metadata": {
        "id": "mg8ovyuHcnTC"
      },
      "source": [
        "#X and y\n",
        "X = house_prices.drop(['price','grade','sqft_living15'],axis=1)\n",
        "y = house_prices.iloc[:,0]"
      ],
      "execution_count": null,
      "outputs": []
    },
    {
      "cell_type": "code",
      "metadata": {
        "id": "9zTi3REicna5"
      },
      "source": [
        "#Elastic Net model\n",
        "#\n",
        "elastic=ElasticNet(normalize=True)\n",
        "search=GridSearchCV(estimator=elastic,param_grid={'alpha':np.logspace(-5,2,8),'l1_ratio':[.2,.4,.6,.8]},scoring='neg_mean_squared_error',n_jobs=1,refit=True,cv=10)"
      ],
      "execution_count": null,
      "outputs": []
    },
    {
      "cell_type": "code",
      "metadata": {
        "colab": {
          "base_uri": "https://localhost:8080/"
        },
        "id": "M0aSGAM1cnuD",
        "outputId": "76493e04-5101-40c1-c944-92516d7d49e2"
      },
      "source": [
        "#fit model and show best params\n",
        "search.fit(X,y)\n",
        "search.best_params_"
      ],
      "execution_count": null,
      "outputs": [
        {
          "output_type": "execute_result",
          "data": {
            "text/plain": [
              "{'alpha': 1e-05, 'l1_ratio': 0.8}"
            ]
          },
          "metadata": {
            "tags": []
          },
          "execution_count": 225
        }
      ]
    },
    {
      "cell_type": "code",
      "metadata": {
        "colab": {
          "base_uri": "https://localhost:8080/"
        },
        "id": "bA_YOmERco2L",
        "outputId": "510a8a0c-5fc7-4c93-85f4-d39f0baa0183"
      },
      "source": [
        "#best scores\n",
        "abs(search.best_score_)"
      ],
      "execution_count": null,
      "outputs": [
        {
          "output_type": "execute_result",
          "data": {
            "text/plain": [
              "54995216045.58793"
            ]
          },
          "metadata": {
            "tags": []
          },
          "execution_count": 226
        }
      ]
    },
    {
      "cell_type": "code",
      "metadata": {
        "colab": {
          "base_uri": "https://localhost:8080/"
        },
        "id": "QM6wmrhmcnX9",
        "outputId": "199b05c4-1b18-4e6c-b68a-d99503f5c8ab"
      },
      "source": [
        "#fitting model to X and y \n",
        "elastic=ElasticNet(normalize=True,alpha=1e-05,l1_ratio=0.8)\n",
        "elastic.fit(X_train,y_train)\n"
      ],
      "execution_count": null,
      "outputs": [
        {
          "output_type": "execute_result",
          "data": {
            "text/plain": [
              "ElasticNet(alpha=1e-05, copy_X=True, fit_intercept=True, l1_ratio=0.8,\n",
              "           max_iter=1000, normalize=True, positive=False, precompute=False,\n",
              "           random_state=None, selection='cyclic', tol=0.0001, warm_start=False)"
            ]
          },
          "metadata": {
            "tags": []
          },
          "execution_count": 227
        }
      ]
    },
    {
      "cell_type": "code",
      "metadata": {
        "colab": {
          "base_uri": "https://localhost:8080/"
        },
        "id": "CnO5xi3Hp23o",
        "outputId": "0d702dd6-f26e-4810-ab53-23ceb16f4111"
      },
      "source": [
        "mse=np.mean((y_pred - y_test)**2)\n",
        "mse"
      ],
      "execution_count": null,
      "outputs": [
        {
          "output_type": "execute_result",
          "data": {
            "text/plain": [
              "750538031243.1787"
            ]
          },
          "metadata": {
            "tags": []
          },
          "execution_count": 228
        }
      ]
    },
    {
      "cell_type": "code",
      "metadata": {
        "colab": {
          "base_uri": "https://localhost:8080/"
        },
        "id": "3UK8qhbzcnMG",
        "outputId": "b8d8783a-59e1-4554-f3f2-f36c83ea67c5"
      },
      "source": [
        "#Checking out the coefficients\n",
        "coef_dict_baseline = {}\n",
        "for coef, feat in zip(elastic.coef_,X.columns):\n",
        "    coef_dict_baseline[feat] = coef\n",
        "coef_dict_baseline"
      ],
      "execution_count": null,
      "outputs": [
        {
          "output_type": "execute_result",
          "data": {
            "text/plain": [
              "{'bathrooms': 25686.79151231179,\n",
              " 'bedrooms': -39782.07230455063,\n",
              " 'condition': 29538.96813504603,\n",
              " 'floors': 6324.314330236459,\n",
              " 'sqft_above': 103776.68380791595,\n",
              " 'sqft_basement': 50621.69013768757,\n",
              " 'sqft_living': 120142.77170968574,\n",
              " 'sqft_lot': -919.144774000618,\n",
              " 'sqft_lot15': -18529.425674492755,\n",
              " 'view': 53935.96498217382,\n",
              " 'waterfront': 47983.133627230796}"
            ]
          },
          "metadata": {
            "tags": []
          },
          "execution_count": 229
        }
      ]
    },
    {
      "cell_type": "markdown",
      "metadata": {
        "id": "yFV4KiIVmgbZ"
      },
      "source": [
        "####Residual Plots"
      ]
    },
    {
      "cell_type": "code",
      "metadata": {
        "id": "Sjh5AsMon6fZ"
      },
      "source": [
        "#creating residuals\n",
        "residuals = np.subtract(lin1_pred, lin1y_test)"
      ],
      "execution_count": null,
      "outputs": []
    },
    {
      "cell_type": "code",
      "metadata": {
        "colab": {
          "base_uri": "https://localhost:8080/",
          "height": 284
        },
        "id": "nCUwwCDbn6Gx",
        "outputId": "137252ca-a22f-486f-bdd1-5d967c7b2ccd"
      },
      "source": [
        "#Describing residuals\n",
        "pd.DataFrame(residuals).describe()\n"
      ],
      "execution_count": null,
      "outputs": [
        {
          "output_type": "execute_result",
          "data": {
            "text/html": [
              "<div>\n",
              "<style scoped>\n",
              "    .dataframe tbody tr th:only-of-type {\n",
              "        vertical-align: middle;\n",
              "    }\n",
              "\n",
              "    .dataframe tbody tr th {\n",
              "        vertical-align: top;\n",
              "    }\n",
              "\n",
              "    .dataframe thead th {\n",
              "        text-align: right;\n",
              "    }\n",
              "</style>\n",
              "<table border=\"1\" class=\"dataframe\">\n",
              "  <thead>\n",
              "    <tr style=\"text-align: right;\">\n",
              "      <th></th>\n",
              "      <th>0</th>\n",
              "    </tr>\n",
              "  </thead>\n",
              "  <tbody>\n",
              "    <tr>\n",
              "      <th>count</th>\n",
              "      <td>4.212000e+03</td>\n",
              "    </tr>\n",
              "    <tr>\n",
              "      <th>mean</th>\n",
              "      <td>4.669579e+03</td>\n",
              "    </tr>\n",
              "    <tr>\n",
              "      <th>std</th>\n",
              "      <td>2.292895e+05</td>\n",
              "    </tr>\n",
              "    <tr>\n",
              "      <th>min</th>\n",
              "      <td>-2.780852e+06</td>\n",
              "    </tr>\n",
              "    <tr>\n",
              "      <th>25%</th>\n",
              "      <td>-9.770014e+04</td>\n",
              "    </tr>\n",
              "    <tr>\n",
              "      <th>50%</th>\n",
              "      <td>2.201939e+04</td>\n",
              "    </tr>\n",
              "    <tr>\n",
              "      <th>75%</th>\n",
              "      <td>1.353788e+05</td>\n",
              "    </tr>\n",
              "    <tr>\n",
              "      <th>max</th>\n",
              "      <td>9.875625e+05</td>\n",
              "    </tr>\n",
              "  </tbody>\n",
              "</table>\n",
              "</div>"
            ],
            "text/plain": [
              "                  0\n",
              "count  4.212000e+03\n",
              "mean   4.669579e+03\n",
              "std    2.292895e+05\n",
              "min   -2.780852e+06\n",
              "25%   -9.770014e+04\n",
              "50%    2.201939e+04\n",
              "75%    1.353788e+05\n",
              "max    9.875625e+05"
            ]
          },
          "metadata": {
            "tags": []
          },
          "execution_count": 239
        }
      ]
    },
    {
      "cell_type": "code",
      "metadata": {
        "colab": {
          "base_uri": "https://localhost:8080/"
        },
        "id": "9MqlFrven51x",
        "outputId": "1d057ba4-38e6-475e-8127-b44270d6c329"
      },
      "source": [
        "#Finding mean\n",
        "residuals.mean()"
      ],
      "execution_count": null,
      "outputs": [
        {
          "output_type": "execute_result",
          "data": {
            "text/plain": [
              "4669.578744943004"
            ]
          },
          "metadata": {
            "tags": []
          },
          "execution_count": 240
        }
      ]
    },
    {
      "cell_type": "code",
      "metadata": {
        "colab": {
          "base_uri": "https://localhost:8080/",
          "height": 290
        },
        "id": "SyzGTdz9o2gd",
        "outputId": "94220960-5cdb-4ad6-a6f1-21a63247645b"
      },
      "source": [
        "#Plotting residuals\n",
        "plt.scatter(y_pred, residuals, color='black')\n",
        "plt.ylabel('residuals')\n",
        "plt.xlabel('fitted values')\n",
        "plt.axhline(y= residuals.mean(), color='red', linewidth=1)\n",
        "plt.show()"
      ],
      "execution_count": null,
      "outputs": [
        {
          "output_type": "display_data",
          "data": {
            "image/png": "[encoded data removed]",
            "text/plain": [
              "<Figure size 432x288 with 1 Axes>"
            ]
          },
          "metadata": {
            "tags": [],
            "needs_background": "light"
          }
        }
      ]
    },
    {
      "cell_type": "markdown",
      "metadata": {
        "id": "4inYQKp6nfal"
      },
      "source": [
        "####Checking for heteroskedasticity "
      ]
    },
    {
      "cell_type": "markdown",
      "metadata": {
        "id": "tMB3vXgbrfRI"
      },
      "source": [
        "######It is the variability of a given dependent variable unequal or even across the range of values of an independent variable that predicts it."
      ]
    },
    {
      "cell_type": "code",
      "metadata": {
        "id": "HFBxB3Tmn_EE"
      },
      "source": [
        "import scipy as sp\n",
        "\n",
        "test_result, p_value = sp.stats.bartlett(y_pred, residuals)\n"
      ],
      "execution_count": null,
      "outputs": []
    },
    {
      "cell_type": "code",
      "metadata": {
        "id": "nDqapkcsr9Su"
      },
      "source": [
        "#preicting critical value\n",
        "\n",
        "degree_of_freedom = len(y_pred) - 1\n",
        "probability = 1-p_value\n",
        "\n",
        "critical_value = sp.stats.chi2.ppf(probability, degree_of_freedom)\n",
        "critical_value"
      ],
      "execution_count": null,
      "outputs": []
    },
    {
      "cell_type": "code",
      "metadata": {
        "colab": {
          "base_uri": "https://localhost:8080/"
        },
        "id": "-K2l-63tr9V5",
        "outputId": "30cf46e9-8c1d-4d41-c9b8-001779f60ab1"
      },
      "source": [
        "#if test result is greater than critical value we reject null hypothesis\n",
        "if (test_result > critical_value):\n",
        "  print('the variances are unequal, and the model should be reassessed')\n",
        "else:\n",
        "  print('the variances are homogeneous!')\n",
        "\n",
        "\n"
      ],
      "execution_count": null,
      "outputs": [
        {
          "output_type": "stream",
          "text": [
            "the variances are homogeneous!\n"
          ],
          "name": "stdout"
        }
      ]
    },
    {
      "cell_type": "markdown",
      "metadata": {
        "id": "PDHN_vOUpKPK"
      },
      "source": [
        "###Challenging the solution\n",
        "######The features in the study were all not that collinear or had relations to each other so linear model was just the best to use to make predictions."
      ]
    }
  ]
}